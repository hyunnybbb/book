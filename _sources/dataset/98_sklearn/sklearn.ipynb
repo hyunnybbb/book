{
 "cells": [
  {
   "cell_type": "markdown",
   "metadata": {},
   "source": [
    "# 사이킷런 튜토리얼"
   ]
  },
  {
   "cell_type": "markdown",
   "metadata": {},
   "source": [
    "```{attention} \n",
    "**빅분기 문제 해결을 위한 사이킷런 모듈 정리**     \n",
    "url =https://scikit-learn.org/stable/modules/classes.html#module\n",
    "```"
   ]
  },
  {
   "cell_type": "markdown",
   "metadata": {},
   "source": [
    "## 모듈이용 팁"
   ]
  },
  {
   "cell_type": "markdown",
   "metadata": {},
   "source": [
    "```{attention} \n",
    "**from import를 이용하여 사용하고자 하는 모듈만 import 합니다.**        \n",
    "```"
   ]
  },
  {
   "cell_type": "code",
   "execution_count": 12,
   "metadata": {},
   "outputs": [],
   "source": [
    "from sklearn.preprocessing import MinMaxScaler      \n",
    "sc = MinMaxScaler()  "
   ]
  },
  {
   "cell_type": "markdown",
   "metadata": {},
   "source": [
    "```{attention} \n",
    "**중간가지의 모듈들 정도는 암기하시고 dir 함수를 이용하여 세부 카테고리는 검색해가며 사용하면 좋습니다.**        \n",
    "```"
   ]
  },
  {
   "cell_type": "code",
   "execution_count": 11,
   "metadata": {
    "scrolled": true
   },
   "outputs": [
    {
     "data": {
      "text/plain": [
       "['BaseCrossValidator',\n",
       " 'GridSearchCV',\n",
       " 'GroupKFold',\n",
       " 'GroupShuffleSplit',\n",
       " 'KFold']"
      ]
     },
     "execution_count": 11,
     "metadata": {},
     "output_type": "execute_result"
    }
   ],
   "source": [
    "import sklearn.model_selection     \n",
    "dir(sklearn.model_selection)[:5]"
   ]
  },
  {
   "cell_type": "markdown",
   "metadata": {},
   "source": [
    "## 모듈리스트"
   ]
  },
  {
   "cell_type": "code",
   "execution_count": 6,
   "metadata": {
    "scrolled": false,
    "tags": [
     "remove-input"
    ]
   },
   "outputs": [
    {
     "name": "stdout",
     "output_type": "stream",
     "text": [
      "sklearn\n",
      "│\n",
      "├── 01 preprocessing (전처리)\n",
      "│   │\n",
      "│   ├── 스케일러\n",
      "│   │   ├── MinMaxScaler\n",
      "│   │   ├── RobustScaler\n",
      "│   │   └── StandardScaler\n",
      "│   │\n",
      "│   └── 인코더\n",
      "│       ├── LabelEncoder\n",
      "│       └── OneHotEncoder\n",
      "│  \n",
      "├── 02 model_selection (모델링 전처리)\n",
      "│   │\n",
      "│   ├── 데이터셋 분리\n",
      "│   │   ├── KFold\n",
      "│   │   ├── StratifiedKFold\n",
      "│   │   └── train_test_split\n",
      "│   │\n",
      "│   └── 하이퍼파라미터 튜닝\n",
      "│       └── GridSearchCV\n",
      "│\n",
      "├── 03 모델학습\n",
      "│   │\n",
      "│   ├── ensemble\n",
      "│   │   ├── AdaBoostClassifier\n",
      "│   │   ├── GradientBoostingClassifier\n",
      "│   │   ├── RandomForestClassifier\n",
      "│   │   └── RandomForestRegressor\n",
      "│   │\n",
      "│   ├── linear_model\n",
      "│   │   ├── LogisticRegression\n",
      "│   │   └── RidgeClassifier\n",
      "│   │\n",
      "│   ├── neighbors\n",
      "│   │   └── KNeighborsClassifier\n",
      "│   │\n",
      "│   ├── svm\n",
      "│   │   ├── SVC\n",
      "│   │   └── SVR\n",
      "│   │\n",
      "│   └── tree\n",
      "│       ├── DecisionTreeClassifier\n",
      "│       ├── DecisionTreeRegressor\n",
      "│       ├── ExtraTreeClassifier\n",
      "│       └── ExtraTreeRegressor\n",
      "│\n",
      "├── 04 모델평가\n",
      "│   │\n",
      "│   ├── metrics\n",
      "│   │   ├── accuracy_score\n",
      "│   │   ├── classification_report\n",
      "│   │   ├── confusion_matrix\n",
      "│   │   ├── f1_score\n",
      "│   │   ├── log_loss\n",
      "│   │   ├── mean_absolute_error\n",
      "│   │   ├── mean_squared_error\n",
      "│   │   └── roc_auc_score\n",
      "│   │\n",
      "│   └── model (정의된 모델에서 추출)\n",
      "│       ├── predict\n",
      "│       └── predict_proba\n",
      "│\n",
      "└── 05 최종앙상블\n",
      "    │\n",
      "    └── ensemble\n",
      "        ├── StackingClassifier\n",
      "        ├── StackingRegressor\n",
      "        ├── VotingClassifier\n",
      "        └── VotingRegressor\n"
     ]
    }
   ],
   "source": [
    "sklearn='''sklearn\n",
    "│\n",
    "├── 01 preprocessing (전처리)\n",
    "│   │\n",
    "│   ├── 스케일러\n",
    "│   │   ├── MinMaxScaler\n",
    "│   │   ├── RobustScaler\n",
    "│   │   └── StandardScaler\n",
    "│   │\n",
    "│   └── 인코더\n",
    "│       ├── LabelEncoder\n",
    "│       └── OneHotEncoder\n",
    "│  \n",
    "├── 02 model_selection (모델링 전처리)\n",
    "│   │\n",
    "│   ├── 데이터셋 분리\n",
    "│   │   ├── KFold\n",
    "│   │   ├── StratifiedKFold\n",
    "│   │   └── train_test_split\n",
    "│   │\n",
    "│   └── 하이퍼파라미터 튜닝\n",
    "│       └── GridSearchCV\n",
    "│\n",
    "├── 03 모델학습\n",
    "│   │\n",
    "│   ├── ensemble\n",
    "│   │   ├── AdaBoostClassifier\n",
    "│   │   ├── GradientBoostingClassifier\n",
    "│   │   ├── RandomForestClassifier\n",
    "│   │   └── RandomForestRegressor\n",
    "│   │\n",
    "│   ├── linear_model\n",
    "│   │   ├── LogisticRegression\n",
    "│   │   └── RidgeClassifier\n",
    "│   │\n",
    "│   ├── neighbors\n",
    "│   │   └── KNeighborsClassifier\n",
    "│   │\n",
    "│   ├── svm\n",
    "│   │   ├── SVC\n",
    "│   │   └── SVR\n",
    "│   │\n",
    "│   └── tree\n",
    "│       ├── DecisionTreeClassifier\n",
    "│       ├── DecisionTreeRegressor\n",
    "│       ├── ExtraTreeClassifier\n",
    "│       └── ExtraTreeRegressor\n",
    "│\n",
    "├── 04 모델평가\n",
    "│   │\n",
    "│   ├── metrics\n",
    "│   │   ├── accuracy_score\n",
    "│   │   ├── classification_report\n",
    "│   │   ├── confusion_matrix\n",
    "│   │   ├── f1_score\n",
    "│   │   ├── log_loss\n",
    "│   │   ├── mean_absolute_error\n",
    "│   │   ├── mean_squared_error\n",
    "│   │   └── roc_auc_score\n",
    "│   │\n",
    "│   └── model (정의된 모델에서 추출)\n",
    "│       ├── predict\n",
    "│       └── predict_proba\n",
    "│\n",
    "└── 05 최종앙상블\n",
    "    │\n",
    "    └── ensemble\n",
    "        ├── StackingClassifier\n",
    "        ├── StackingRegressor\n",
    "        ├── VotingClassifier\n",
    "        └── VotingRegressor'''\n",
    "print(sklearn)"
   ]
  },
  {
   "cell_type": "markdown",
   "metadata": {},
   "source": [
    "## 01 데이터 전처리"
   ]
  },
  {
   "cell_type": "markdown",
   "metadata": {},
   "source": [
    "## 02 모델링 전처리"
   ]
  },
  {
   "cell_type": "markdown",
   "metadata": {},
   "source": [
    "## 03 모델링"
   ]
  },
  {
   "cell_type": "markdown",
   "metadata": {},
   "source": [
    "## 04 모델 평가"
   ]
  },
  {
   "cell_type": "markdown",
   "metadata": {},
   "source": [
    "## 05 최종 앙상블"
   ]
  }
 ],
 "metadata": {
  "celltoolbar": "Edit Metadata",
  "kernelspec": {
   "display_name": "Python 3",
   "language": "python",
   "name": "python3"
  },
  "language_info": {
   "codemirror_mode": {
    "name": "ipython",
    "version": 3
   },
   "file_extension": ".py",
   "mimetype": "text/x-python",
   "name": "python",
   "nbconvert_exporter": "python",
   "pygments_lexer": "ipython3",
   "version": "3.8.2"
  }
 },
 "nbformat": 4,
 "nbformat_minor": 4
}
