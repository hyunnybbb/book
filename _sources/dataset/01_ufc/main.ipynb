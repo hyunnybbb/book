{
 "cells": [
  {
   "cell_type": "code",
   "execution_count": 54,
   "metadata": {},
   "outputs": [],
   "source": [
    "import pandas as pd\n",
    "import os\n",
    "import matplotlib.pyplot as plt\n",
    "import numpy as np"
   ]
  },
  {
   "cell_type": "code",
   "execution_count": 55,
   "metadata": {},
   "outputs": [],
   "source": [
    "pd.set_option('display.max_columns',200)"
   ]
  },
  {
   "cell_type": "markdown",
   "metadata": {},
   "source": [
    "```{admonition} Q1\n",
    "*데이터를 ufc 변수에 로드하라*\n",
    "```"
   ]
  },
  {
   "cell_type": "code",
   "execution_count": 56,
   "metadata": {},
   "outputs": [],
   "source": [
    "ufc =pd.read_csv('https://raw.githubusercontent.com/Datamanim/ufc/main/ufc.csv')"
   ]
  },
  {
   "cell_type": "code",
   "execution_count": 57,
   "metadata": {
    "scrolled": true
   },
   "outputs": [
    {
     "data": {
      "text/html": [
       "<div>\n",
       "<style scoped>\n",
       "    .dataframe tbody tr th:only-of-type {\n",
       "        vertical-align: middle;\n",
       "    }\n",
       "\n",
       "    .dataframe tbody tr th {\n",
       "        vertical-align: top;\n",
       "    }\n",
       "\n",
       "    .dataframe thead th {\n",
       "        text-align: right;\n",
       "    }\n",
       "</style>\n",
       "<table border=\"1\" class=\"dataframe\">\n",
       "  <thead>\n",
       "    <tr style=\"text-align: right;\">\n",
       "      <th></th>\n",
       "      <th>R_fighter</th>\n",
       "      <th>B_fighter</th>\n",
       "      <th>Referee</th>\n",
       "      <th>date</th>\n",
       "      <th>location</th>\n",
       "      <th>Winner</th>\n",
       "      <th>title_bout</th>\n",
       "      <th>weight_class</th>\n",
       "      <th>B_wins</th>\n",
       "      <th>B_losses</th>\n",
       "      <th>B_draw</th>\n",
       "      <th>R_wins</th>\n",
       "      <th>R_losses</th>\n",
       "      <th>R_draw</th>\n",
       "      <th>B_Stance</th>\n",
       "      <th>R_Stance</th>\n",
       "      <th>B_Height_cms</th>\n",
       "      <th>B_Reach_cms</th>\n",
       "      <th>B_Weight_lbs</th>\n",
       "      <th>R_Height_cms</th>\n",
       "      <th>R_Reach_cms</th>\n",
       "      <th>R_Weight_lbs</th>\n",
       "      <th>B_age</th>\n",
       "      <th>R_age</th>\n",
       "    </tr>\n",
       "  </thead>\n",
       "  <tbody>\n",
       "    <tr>\n",
       "      <th>0</th>\n",
       "      <td>Adrian Yanez</td>\n",
       "      <td>Gustavo Lopez</td>\n",
       "      <td>Chris Tognoni</td>\n",
       "      <td>03/20_2021</td>\n",
       "      <td>Las Vegas, Nevada, USA</td>\n",
       "      <td>Red</td>\n",
       "      <td>False</td>\n",
       "      <td>Bantamweight</td>\n",
       "      <td>1</td>\n",
       "      <td>1</td>\n",
       "      <td>0</td>\n",
       "      <td>1</td>\n",
       "      <td>0</td>\n",
       "      <td>0</td>\n",
       "      <td>Orthodox</td>\n",
       "      <td>Orthodox</td>\n",
       "      <td>165.10</td>\n",
       "      <td>170.18</td>\n",
       "      <td>135.0</td>\n",
       "      <td>170.18</td>\n",
       "      <td>177.80</td>\n",
       "      <td>135.0</td>\n",
       "      <td>31.0</td>\n",
       "      <td>27.0</td>\n",
       "    </tr>\n",
       "    <tr>\n",
       "      <th>1</th>\n",
       "      <td>Trevin Giles</td>\n",
       "      <td>Roman Dolidze</td>\n",
       "      <td>Herb Dean</td>\n",
       "      <td>03/20_2021</td>\n",
       "      <td>Las Vegas, Nevada, USA</td>\n",
       "      <td>Red</td>\n",
       "      <td>False</td>\n",
       "      <td>Middleweight</td>\n",
       "      <td>2</td>\n",
       "      <td>0</td>\n",
       "      <td>0</td>\n",
       "      <td>4</td>\n",
       "      <td>2</td>\n",
       "      <td>0</td>\n",
       "      <td>Orthodox</td>\n",
       "      <td>Orthodox</td>\n",
       "      <td>187.96</td>\n",
       "      <td>193.04</td>\n",
       "      <td>205.0</td>\n",
       "      <td>182.88</td>\n",
       "      <td>187.96</td>\n",
       "      <td>185.0</td>\n",
       "      <td>32.0</td>\n",
       "      <td>28.0</td>\n",
       "    </tr>\n",
       "    <tr>\n",
       "      <th>2</th>\n",
       "      <td>Tai Tuivasa</td>\n",
       "      <td>Harry Hunsucker</td>\n",
       "      <td>Herb Dean</td>\n",
       "      <td>03/20_2021</td>\n",
       "      <td>Las Vegas, Nevada, USA</td>\n",
       "      <td>Red</td>\n",
       "      <td>False</td>\n",
       "      <td>Heavyweight</td>\n",
       "      <td>0</td>\n",
       "      <td>0</td>\n",
       "      <td>0</td>\n",
       "      <td>4</td>\n",
       "      <td>3</td>\n",
       "      <td>0</td>\n",
       "      <td>Orthodox</td>\n",
       "      <td>Southpaw</td>\n",
       "      <td>187.96</td>\n",
       "      <td>190.50</td>\n",
       "      <td>241.0</td>\n",
       "      <td>187.96</td>\n",
       "      <td>190.50</td>\n",
       "      <td>264.0</td>\n",
       "      <td>32.0</td>\n",
       "      <td>28.0</td>\n",
       "    </tr>\n",
       "  </tbody>\n",
       "</table>\n",
       "</div>"
      ],
      "text/plain": [
       "      R_fighter        B_fighter        Referee        date  \\\n",
       "0  Adrian Yanez    Gustavo Lopez  Chris Tognoni  03/20_2021   \n",
       "1  Trevin Giles    Roman Dolidze      Herb Dean  03/20_2021   \n",
       "2   Tai Tuivasa  Harry Hunsucker      Herb Dean  03/20_2021   \n",
       "\n",
       "                 location Winner  title_bout  weight_class  B_wins  B_losses  \\\n",
       "0  Las Vegas, Nevada, USA    Red       False  Bantamweight       1         1   \n",
       "1  Las Vegas, Nevada, USA    Red       False  Middleweight       2         0   \n",
       "2  Las Vegas, Nevada, USA    Red       False   Heavyweight       0         0   \n",
       "\n",
       "   B_draw  R_wins  R_losses  R_draw  B_Stance  R_Stance  B_Height_cms  \\\n",
       "0       0       1         0       0  Orthodox  Orthodox        165.10   \n",
       "1       0       4         2       0  Orthodox  Orthodox        187.96   \n",
       "2       0       4         3       0  Orthodox  Southpaw        187.96   \n",
       "\n",
       "   B_Reach_cms  B_Weight_lbs  R_Height_cms  R_Reach_cms  R_Weight_lbs  B_age  \\\n",
       "0       170.18         135.0        170.18       177.80         135.0   31.0   \n",
       "1       193.04         205.0        182.88       187.96         185.0   32.0   \n",
       "2       190.50         241.0        187.96       190.50         264.0   32.0   \n",
       "\n",
       "   R_age  \n",
       "0   27.0  \n",
       "1   28.0  \n",
       "2   28.0  "
      ]
     },
     "execution_count": 57,
     "metadata": {},
     "output_type": "execute_result"
    }
   ],
   "source": [
    "ufc.head(3)"
   ]
  },
  {
   "cell_type": "markdown",
   "metadata": {},
   "source": [
    "```{admonition} Q2\n",
    "**성별에 관한 컬럼 Gender를 추가한다. 남성의경우 male, 여성의경우 Female로 표기 (Red, Blue 선수 상관없이 해당선수들의 성별을 하나의 컬럼에 입력)**\n",
    "```"
   ]
  },
  {
   "cell_type": "code",
   "execution_count": 58,
   "metadata": {
    "tags": [
     "hide-input"
    ]
   },
   "outputs": [
    {
     "data": {
      "text/plain": [
       "0    male\n",
       "1    male\n",
       "2    male\n",
       "Name: Gender, dtype: object"
      ]
     },
     "execution_count": 58,
     "metadata": {},
     "output_type": "execute_result"
    }
   ],
   "source": [
    "ufc['Gender'] = ufc.weight_class.map(lambda x: 'Female' if 'Women' in x else 'male')\n",
    "\n",
    "ufc['Gender'].head(3)"
   ]
  },
  {
   "cell_type": "markdown",
   "metadata": {},
   "source": [
    "```{admonition} Q3\n",
    "*Gender 컬럼의 value 발생 빈도확인*\n",
    "```"
   ]
  },
  {
   "cell_type": "code",
   "execution_count": 59,
   "metadata": {
    "scrolled": true,
    "tags": [
     "hide-input"
    ]
   },
   "outputs": [
    {
     "data": {
      "text/plain": [
       "male      4500\n",
       "Female     418\n",
       "Name: Gender, dtype: int64"
      ]
     },
     "execution_count": 59,
     "metadata": {},
     "output_type": "execute_result"
    }
   ],
   "source": [
    "ufc['Gender'].value_counts()"
   ]
  },
  {
   "cell_type": "markdown",
   "metadata": {},
   "source": [
    "```{admonition} Q4\n",
    "*'year' 컬럼에 해당 경기 발생 년도를 입력하라. 년도별 남성,여성각각의 경기숫자를 시각화 하여라*\n",
    "```"
   ]
  },
  {
   "cell_type": "code",
   "execution_count": 60,
   "metadata": {
    "scrolled": true,
    "tags": [
     "hide-input"
    ]
   },
   "outputs": [],
   "source": [
    "ufc['date'] = pd.to_datetime(ufc['date'].str[-4:] +\"-\"+ufc['date'].str[:2]+\"-\"+ufc['date'].str[3:5])\n",
    "ufc['year'] = ufc['date'].dt.year\n",
    "gender_count = ufc.groupby(['year','Gender']).count()['date'].reset_index()"
   ]
  },
  {
   "cell_type": "code",
   "execution_count": 61,
   "metadata": {
    "scrolled": true
   },
   "outputs": [
    {
     "data": {
      "text/html": [
       "<div>\n",
       "<style scoped>\n",
       "    .dataframe tbody tr th:only-of-type {\n",
       "        vertical-align: middle;\n",
       "    }\n",
       "\n",
       "    .dataframe tbody tr th {\n",
       "        vertical-align: top;\n",
       "    }\n",
       "\n",
       "    .dataframe thead th {\n",
       "        text-align: right;\n",
       "    }\n",
       "</style>\n",
       "<table border=\"1\" class=\"dataframe\">\n",
       "  <thead>\n",
       "    <tr style=\"text-align: right;\">\n",
       "      <th></th>\n",
       "      <th>year</th>\n",
       "      <th>Gender</th>\n",
       "      <th>date</th>\n",
       "    </tr>\n",
       "  </thead>\n",
       "  <tbody>\n",
       "    <tr>\n",
       "      <th>0</th>\n",
       "      <td>1997</td>\n",
       "      <td>male</td>\n",
       "      <td>1</td>\n",
       "    </tr>\n",
       "    <tr>\n",
       "      <th>1</th>\n",
       "      <td>1998</td>\n",
       "      <td>male</td>\n",
       "      <td>1</td>\n",
       "    </tr>\n",
       "    <tr>\n",
       "      <th>2</th>\n",
       "      <td>1999</td>\n",
       "      <td>male</td>\n",
       "      <td>1</td>\n",
       "    </tr>\n",
       "  </tbody>\n",
       "</table>\n",
       "</div>"
      ],
      "text/plain": [
       "   year Gender  date\n",
       "0  1997   male     1\n",
       "1  1998   male     1\n",
       "2  1999   male     1"
      ]
     },
     "execution_count": 61,
     "metadata": {},
     "output_type": "execute_result"
    }
   ],
   "source": [
    "gender_count.head(3)"
   ]
  },
  {
   "cell_type": "code",
   "execution_count": 10,
   "metadata": {
    "tags": [
     "hide-input"
    ]
   },
   "outputs": [
    {
     "data": {
      "image/png": "[encoded data removed]",
      "text/plain": [
       "<Figure size 432x288 with 1 Axes>"
      ]
     },
     "metadata": {
      "needs_background": "light"
     },
     "output_type": "display_data"
    }
   ],
   "source": [
    "male_df = gender_count[gender_count.Gender=='male']\n",
    "female_df = gender_count[gender_count.Gender=='Female']\n",
    "\n",
    "\n",
    "plt.plot(male_df.year,male_df.date,label='male')\n",
    "plt.plot(female_df.year,female_df.date,label='female')\n",
    "plt.title('Game count by Gender- year')\n",
    "plt.legend()\n",
    "plt.show()"
   ]
  },
  {
   "cell_type": "markdown",
   "metadata": {},
   "source": [
    "```{admonition} tip\n",
    ":class: attention\n",
    "**모듈 내부함수 찾는방법은 dir함수를 이용한다. 주피터노트북상에서 shift + tab 버튼을 모르는 함수위에서 누르면 documentation 기능이 활성화**\n",
    "```"
   ]
  },
  {
   "cell_type": "code",
   "execution_count": 11,
   "metadata": {
    "scrolled": true
   },
   "outputs": [
    {
     "data": {
      "text/plain": [
       "['timetz',\n",
       " 'to_period',\n",
       " 'to_pydatetime',\n",
       " 'tz',\n",
       " 'tz_convert',\n",
       " 'tz_localize',\n",
       " 'week',\n",
       " 'weekday',\n",
       " 'weekofyear',\n",
       " 'year']"
      ]
     },
     "execution_count": 11,
     "metadata": {},
     "output_type": "execute_result"
    }
   ],
   "source": [
    "dir(ufc.date.dt)[-10:]"
   ]
  },
  {
   "cell_type": "markdown",
   "metadata": {},
   "source": [
    "```{admonition} Q5\n",
    "*몇년도 몇월에 가장 많은 경기가 있었는지 확인하라. 매 달 발생한 경기수를 시각화 하여라*\n",
    "```"
   ]
  },
  {
   "cell_type": "code",
   "execution_count": 12,
   "metadata": {
    "tags": [
     "hide-input"
    ]
   },
   "outputs": [
    {
     "data": {
      "text/plain": [
       "2016-07    61\n",
       "Name: date, dtype: int64"
      ]
     },
     "execution_count": 12,
     "metadata": {},
     "output_type": "execute_result"
    }
   ],
   "source": [
    "month_df = ufc.date.dt.strftime('%Y-%m').value_counts().sort_index()\n",
    "month_df[month_df ==month_df.max()]"
   ]
  },
  {
   "cell_type": "code",
   "execution_count": 13,
   "metadata": {
    "tags": [
     "hide-input"
    ]
   },
   "outputs": [
    {
     "data": {
      "image/png": "[encoded data removed]",
      "text/plain": [
       "<Figure size 432x288 with 1 Axes>"
      ]
     },
     "metadata": {
      "needs_background": "light"
     },
     "output_type": "display_data"
    }
   ],
   "source": [
    "plt.plot(month_df)\n",
    "plt.xticks([x for x in range(0,len(month_df),int(len(month_df)/4))])\n",
    "plt.title(\"Count of games of Month\",fontsize=13)\n",
    "plt.xlabel('date')\n",
    "plt.ylabel(\"count\")\n",
    "plt.show()"
   ]
  },
  {
   "cell_type": "markdown",
   "metadata": {},
   "source": [
    "```{admonition} Q6\n",
    "*타이틀매치(column : title_bout=True)에 가장 많은 경기를 심판(column : Referee)본 인물과 그 횟수는?*\n",
    "```"
   ]
  },
  {
   "cell_type": "code",
   "execution_count": 14,
   "metadata": {
    "scrolled": true,
    "tags": [
     "hide-input"
    ]
   },
   "outputs": [
    {
     "data": {
      "text/plain": [
       "Herb Dean    91\n",
       "Name: Referee, dtype: int64"
      ]
     },
     "execution_count": 14,
     "metadata": {},
     "output_type": "execute_result"
    }
   ],
   "source": [
    "ufc[ufc.title_bout==True].Referee.value_counts().head(1)"
   ]
  },
  {
   "cell_type": "markdown",
   "metadata": {},
   "source": [
    "```{admonition} Q7\n",
    "*년도에 따른 체급별 타이틀 매치에 관한 데이터를 아래와 같이 새롭게 구성하고 히트맵으로 표시하라(축 label 및 title 설정까지)*\n",
    "```"
   ]
  },
  {
   "cell_type": "code",
   "execution_count": 15,
   "metadata": {
    "scrolled": false,
    "tags": [
     "hide-input"
    ]
   },
   "outputs": [],
   "source": [
    "pv_table = ufc[ufc.title_bout ==True][['weight_class','year']].\\\n",
    "                                        value_counts().reset_index().\\\n",
    "                                        pivot(index='weight_class',columns='year',values=0).\\\n",
    "                                        fillna(0).astype(int)"
   ]
  },
  {
   "cell_type": "code",
   "execution_count": 16,
   "metadata": {
    "scrolled": false
   },
   "outputs": [
    {
     "data": {
      "text/html": [
       "<div>\n",
       "<style scoped>\n",
       "    .dataframe tbody tr th:only-of-type {\n",
       "        vertical-align: middle;\n",
       "    }\n",
       "\n",
       "    .dataframe tbody tr th {\n",
       "        vertical-align: top;\n",
       "    }\n",
       "\n",
       "    .dataframe thead th {\n",
       "        text-align: right;\n",
       "    }\n",
       "</style>\n",
       "<table border=\"1\" class=\"dataframe\">\n",
       "  <thead>\n",
       "    <tr style=\"text-align: right;\">\n",
       "      <th>year</th>\n",
       "      <th>2000</th>\n",
       "      <th>2001</th>\n",
       "      <th>2002</th>\n",
       "      <th>2003</th>\n",
       "      <th>2004</th>\n",
       "      <th>2005</th>\n",
       "      <th>2006</th>\n",
       "      <th>2007</th>\n",
       "      <th>2008</th>\n",
       "      <th>2009</th>\n",
       "      <th>2010</th>\n",
       "      <th>2011</th>\n",
       "      <th>2012</th>\n",
       "      <th>2013</th>\n",
       "      <th>2014</th>\n",
       "      <th>2015</th>\n",
       "      <th>2016</th>\n",
       "      <th>2017</th>\n",
       "      <th>2018</th>\n",
       "      <th>2019</th>\n",
       "      <th>2020</th>\n",
       "      <th>2021</th>\n",
       "    </tr>\n",
       "    <tr>\n",
       "      <th>weight_class</th>\n",
       "      <th></th>\n",
       "      <th></th>\n",
       "      <th></th>\n",
       "      <th></th>\n",
       "      <th></th>\n",
       "      <th></th>\n",
       "      <th></th>\n",
       "      <th></th>\n",
       "      <th></th>\n",
       "      <th></th>\n",
       "      <th></th>\n",
       "      <th></th>\n",
       "      <th></th>\n",
       "      <th></th>\n",
       "      <th></th>\n",
       "      <th></th>\n",
       "      <th></th>\n",
       "      <th></th>\n",
       "      <th></th>\n",
       "      <th></th>\n",
       "      <th></th>\n",
       "      <th></th>\n",
       "    </tr>\n",
       "  </thead>\n",
       "  <tbody>\n",
       "    <tr>\n",
       "      <th>Bantamweight</th>\n",
       "      <td>0</td>\n",
       "      <td>0</td>\n",
       "      <td>0</td>\n",
       "      <td>0</td>\n",
       "      <td>0</td>\n",
       "      <td>0</td>\n",
       "      <td>0</td>\n",
       "      <td>0</td>\n",
       "      <td>0</td>\n",
       "      <td>0</td>\n",
       "      <td>0</td>\n",
       "      <td>3</td>\n",
       "      <td>1</td>\n",
       "      <td>2</td>\n",
       "      <td>4</td>\n",
       "      <td>1</td>\n",
       "      <td>3</td>\n",
       "      <td>1</td>\n",
       "      <td>1</td>\n",
       "      <td>1</td>\n",
       "      <td>2</td>\n",
       "      <td>1</td>\n",
       "    </tr>\n",
       "    <tr>\n",
       "      <th>Featherweight</th>\n",
       "      <td>0</td>\n",
       "      <td>0</td>\n",
       "      <td>0</td>\n",
       "      <td>0</td>\n",
       "      <td>0</td>\n",
       "      <td>0</td>\n",
       "      <td>0</td>\n",
       "      <td>0</td>\n",
       "      <td>0</td>\n",
       "      <td>0</td>\n",
       "      <td>0</td>\n",
       "      <td>3</td>\n",
       "      <td>2</td>\n",
       "      <td>2</td>\n",
       "      <td>2</td>\n",
       "      <td>2</td>\n",
       "      <td>2</td>\n",
       "      <td>2</td>\n",
       "      <td>1</td>\n",
       "      <td>2</td>\n",
       "      <td>1</td>\n",
       "      <td>0</td>\n",
       "    </tr>\n",
       "    <tr>\n",
       "      <th>Flyweight</th>\n",
       "      <td>0</td>\n",
       "      <td>0</td>\n",
       "      <td>0</td>\n",
       "      <td>0</td>\n",
       "      <td>0</td>\n",
       "      <td>0</td>\n",
       "      <td>0</td>\n",
       "      <td>0</td>\n",
       "      <td>0</td>\n",
       "      <td>0</td>\n",
       "      <td>0</td>\n",
       "      <td>0</td>\n",
       "      <td>1</td>\n",
       "      <td>3</td>\n",
       "      <td>2</td>\n",
       "      <td>2</td>\n",
       "      <td>2</td>\n",
       "      <td>2</td>\n",
       "      <td>1</td>\n",
       "      <td>1</td>\n",
       "      <td>3</td>\n",
       "      <td>0</td>\n",
       "    </tr>\n",
       "    <tr>\n",
       "      <th>Heavyweight</th>\n",
       "      <td>0</td>\n",
       "      <td>0</td>\n",
       "      <td>1</td>\n",
       "      <td>0</td>\n",
       "      <td>1</td>\n",
       "      <td>2</td>\n",
       "      <td>3</td>\n",
       "      <td>2</td>\n",
       "      <td>3</td>\n",
       "      <td>2</td>\n",
       "      <td>3</td>\n",
       "      <td>1</td>\n",
       "      <td>2</td>\n",
       "      <td>2</td>\n",
       "      <td>2</td>\n",
       "      <td>1</td>\n",
       "      <td>2</td>\n",
       "      <td>1</td>\n",
       "      <td>3</td>\n",
       "      <td>1</td>\n",
       "      <td>1</td>\n",
       "      <td>0</td>\n",
       "    </tr>\n",
       "    <tr>\n",
       "      <th>LightHeavyweight</th>\n",
       "      <td>1</td>\n",
       "      <td>3</td>\n",
       "      <td>1</td>\n",
       "      <td>2</td>\n",
       "      <td>2</td>\n",
       "      <td>3</td>\n",
       "      <td>3</td>\n",
       "      <td>2</td>\n",
       "      <td>3</td>\n",
       "      <td>2</td>\n",
       "      <td>1</td>\n",
       "      <td>3</td>\n",
       "      <td>2</td>\n",
       "      <td>2</td>\n",
       "      <td>1</td>\n",
       "      <td>3</td>\n",
       "      <td>2</td>\n",
       "      <td>2</td>\n",
       "      <td>2</td>\n",
       "      <td>2</td>\n",
       "      <td>2</td>\n",
       "      <td>1</td>\n",
       "    </tr>\n",
       "    <tr>\n",
       "      <th>Lightweight</th>\n",
       "      <td>0</td>\n",
       "      <td>2</td>\n",
       "      <td>1</td>\n",
       "      <td>1</td>\n",
       "      <td>0</td>\n",
       "      <td>0</td>\n",
       "      <td>1</td>\n",
       "      <td>2</td>\n",
       "      <td>3</td>\n",
       "      <td>3</td>\n",
       "      <td>3</td>\n",
       "      <td>2</td>\n",
       "      <td>4</td>\n",
       "      <td>2</td>\n",
       "      <td>1</td>\n",
       "      <td>3</td>\n",
       "      <td>3</td>\n",
       "      <td>1</td>\n",
       "      <td>3</td>\n",
       "      <td>2</td>\n",
       "      <td>2</td>\n",
       "      <td>0</td>\n",
       "    </tr>\n",
       "    <tr>\n",
       "      <th>Middleweight</th>\n",
       "      <td>0</td>\n",
       "      <td>0</td>\n",
       "      <td>0</td>\n",
       "      <td>0</td>\n",
       "      <td>0</td>\n",
       "      <td>3</td>\n",
       "      <td>4</td>\n",
       "      <td>2</td>\n",
       "      <td>3</td>\n",
       "      <td>1</td>\n",
       "      <td>3</td>\n",
       "      <td>2</td>\n",
       "      <td>2</td>\n",
       "      <td>3</td>\n",
       "      <td>4</td>\n",
       "      <td>2</td>\n",
       "      <td>2</td>\n",
       "      <td>2</td>\n",
       "      <td>1</td>\n",
       "      <td>2</td>\n",
       "      <td>2</td>\n",
       "      <td>0</td>\n",
       "    </tr>\n",
       "    <tr>\n",
       "      <th>Welterweight</th>\n",
       "      <td>0</td>\n",
       "      <td>0</td>\n",
       "      <td>0</td>\n",
       "      <td>2</td>\n",
       "      <td>2</td>\n",
       "      <td>2</td>\n",
       "      <td>3</td>\n",
       "      <td>3</td>\n",
       "      <td>2</td>\n",
       "      <td>3</td>\n",
       "      <td>2</td>\n",
       "      <td>2</td>\n",
       "      <td>4</td>\n",
       "      <td>3</td>\n",
       "      <td>3</td>\n",
       "      <td>1</td>\n",
       "      <td>3</td>\n",
       "      <td>3</td>\n",
       "      <td>2</td>\n",
       "      <td>2</td>\n",
       "      <td>1</td>\n",
       "      <td>1</td>\n",
       "    </tr>\n",
       "    <tr>\n",
       "      <th>WomenBantamweight</th>\n",
       "      <td>0</td>\n",
       "      <td>0</td>\n",
       "      <td>0</td>\n",
       "      <td>0</td>\n",
       "      <td>0</td>\n",
       "      <td>0</td>\n",
       "      <td>0</td>\n",
       "      <td>0</td>\n",
       "      <td>0</td>\n",
       "      <td>0</td>\n",
       "      <td>0</td>\n",
       "      <td>0</td>\n",
       "      <td>0</td>\n",
       "      <td>2</td>\n",
       "      <td>2</td>\n",
       "      <td>3</td>\n",
       "      <td>3</td>\n",
       "      <td>1</td>\n",
       "      <td>1</td>\n",
       "      <td>2</td>\n",
       "      <td>0</td>\n",
       "      <td>0</td>\n",
       "    </tr>\n",
       "    <tr>\n",
       "      <th>WomenFeatherweight</th>\n",
       "      <td>0</td>\n",
       "      <td>0</td>\n",
       "      <td>0</td>\n",
       "      <td>0</td>\n",
       "      <td>0</td>\n",
       "      <td>0</td>\n",
       "      <td>0</td>\n",
       "      <td>0</td>\n",
       "      <td>0</td>\n",
       "      <td>0</td>\n",
       "      <td>0</td>\n",
       "      <td>0</td>\n",
       "      <td>0</td>\n",
       "      <td>0</td>\n",
       "      <td>0</td>\n",
       "      <td>0</td>\n",
       "      <td>0</td>\n",
       "      <td>3</td>\n",
       "      <td>3</td>\n",
       "      <td>0</td>\n",
       "      <td>1</td>\n",
       "      <td>1</td>\n",
       "    </tr>\n",
       "    <tr>\n",
       "      <th>WomenFlyweight</th>\n",
       "      <td>0</td>\n",
       "      <td>0</td>\n",
       "      <td>0</td>\n",
       "      <td>0</td>\n",
       "      <td>0</td>\n",
       "      <td>0</td>\n",
       "      <td>0</td>\n",
       "      <td>0</td>\n",
       "      <td>0</td>\n",
       "      <td>0</td>\n",
       "      <td>0</td>\n",
       "      <td>0</td>\n",
       "      <td>0</td>\n",
       "      <td>0</td>\n",
       "      <td>0</td>\n",
       "      <td>0</td>\n",
       "      <td>0</td>\n",
       "      <td>1</td>\n",
       "      <td>1</td>\n",
       "      <td>2</td>\n",
       "      <td>2</td>\n",
       "      <td>0</td>\n",
       "    </tr>\n",
       "    <tr>\n",
       "      <th>WomenStrawweight</th>\n",
       "      <td>0</td>\n",
       "      <td>0</td>\n",
       "      <td>0</td>\n",
       "      <td>0</td>\n",
       "      <td>0</td>\n",
       "      <td>0</td>\n",
       "      <td>0</td>\n",
       "      <td>0</td>\n",
       "      <td>0</td>\n",
       "      <td>0</td>\n",
       "      <td>0</td>\n",
       "      <td>0</td>\n",
       "      <td>0</td>\n",
       "      <td>0</td>\n",
       "      <td>1</td>\n",
       "      <td>3</td>\n",
       "      <td>3</td>\n",
       "      <td>2</td>\n",
       "      <td>1</td>\n",
       "      <td>2</td>\n",
       "      <td>1</td>\n",
       "      <td>0</td>\n",
       "    </tr>\n",
       "  </tbody>\n",
       "</table>\n",
       "</div>"
      ],
      "text/plain": [
       "year                2000  2001  2002  2003  2004  2005  2006  2007  2008  \\\n",
       "weight_class                                                               \n",
       "Bantamweight           0     0     0     0     0     0     0     0     0   \n",
       "Featherweight          0     0     0     0     0     0     0     0     0   \n",
       "Flyweight              0     0     0     0     0     0     0     0     0   \n",
       "Heavyweight            0     0     1     0     1     2     3     2     3   \n",
       "LightHeavyweight       1     3     1     2     2     3     3     2     3   \n",
       "Lightweight            0     2     1     1     0     0     1     2     3   \n",
       "Middleweight           0     0     0     0     0     3     4     2     3   \n",
       "Welterweight           0     0     0     2     2     2     3     3     2   \n",
       "WomenBantamweight      0     0     0     0     0     0     0     0     0   \n",
       "WomenFeatherweight     0     0     0     0     0     0     0     0     0   \n",
       "WomenFlyweight         0     0     0     0     0     0     0     0     0   \n",
       "WomenStrawweight       0     0     0     0     0     0     0     0     0   \n",
       "\n",
       "year                2009  2010  2011  2012  2013  2014  2015  2016  2017  \\\n",
       "weight_class                                                               \n",
       "Bantamweight           0     0     3     1     2     4     1     3     1   \n",
       "Featherweight          0     0     3     2     2     2     2     2     2   \n",
       "Flyweight              0     0     0     1     3     2     2     2     2   \n",
       "Heavyweight            2     3     1     2     2     2     1     2     1   \n",
       "LightHeavyweight       2     1     3     2     2     1     3     2     2   \n",
       "Lightweight            3     3     2     4     2     1     3     3     1   \n",
       "Middleweight           1     3     2     2     3     4     2     2     2   \n",
       "Welterweight           3     2     2     4     3     3     1     3     3   \n",
       "WomenBantamweight      0     0     0     0     2     2     3     3     1   \n",
       "WomenFeatherweight     0     0     0     0     0     0     0     0     3   \n",
       "WomenFlyweight         0     0     0     0     0     0     0     0     1   \n",
       "WomenStrawweight       0     0     0     0     0     1     3     3     2   \n",
       "\n",
       "year                2018  2019  2020  2021  \n",
       "weight_class                                \n",
       "Bantamweight           1     1     2     1  \n",
       "Featherweight          1     2     1     0  \n",
       "Flyweight              1     1     3     0  \n",
       "Heavyweight            3     1     1     0  \n",
       "LightHeavyweight       2     2     2     1  \n",
       "Lightweight            3     2     2     0  \n",
       "Middleweight           1     2     2     0  \n",
       "Welterweight           2     2     1     1  \n",
       "WomenBantamweight      1     2     0     0  \n",
       "WomenFeatherweight     3     0     1     1  \n",
       "WomenFlyweight         1     2     2     0  \n",
       "WomenStrawweight       1     2     1     0  "
      ]
     },
     "execution_count": 16,
     "metadata": {},
     "output_type": "execute_result"
    }
   ],
   "source": [
    "pv_table"
   ]
  },
  {
   "cell_type": "code",
   "execution_count": 17,
   "metadata": {
    "tags": [
     "hide-input"
    ]
   },
   "outputs": [
    {
     "data": {
      "image/png": "[encoded data removed]",
      "text/plain": [
       "<Figure size 1440x504 with 2 Axes>"
      ]
     },
     "metadata": {
      "needs_background": "light"
     },
     "output_type": "display_data"
    }
   ],
   "source": [
    "plt.figure(figsize=(20,7))\n",
    "plt.pcolor(pv_table)\n",
    "plt.yticks(np.arange(pv_table.shape[0])+0.5,list(pv_table.index),fontsize=12)\n",
    "plt.xticks(np.arange(pv_table.shape[1]),list(pv_table.columns),fontsize=12)\n",
    "plt.xlabel('year',fontsize=14)\n",
    "plt.ylabel('class',fontsize=15)\n",
    "plt.title('Title match of year',fontsize=15)\n",
    "plt.colorbar(ticks=[0,1,2,3,4])\n",
    "plt.show()"
   ]
  },
  {
   "cell_type": "markdown",
   "metadata": {},
   "source": [
    "```{admonition} Q8\n",
    "*stance가 다른 선수가 붙었을때 각 stance에 따른 승률을 구하여라. 결과는 아래와 같다. (stance1 : 승률 높은 스탠스 , stance2: 승률 낮은 스탠스, ratio: 승률 높은 스탠스의 승률*\n",
    "```"
   ]
  },
  {
   "cell_type": "code",
   "execution_count": null,
   "metadata": {
    "tags": [
     "hide-input"
    ]
   },
   "outputs": [],
   "source": [
    "df_ratio = ufc[['B_Stance','R_Stance','Winner']].copy()\n",
    "\n",
    "df_ratio['Winner_blue'] = df_ratio.loc[:,'Winner'].map(lambda x: 1 if x=='Blue' else 0).values\n",
    "df_ratio['Winner_red'] = df_ratio.loc[:,'Winner'].map(lambda x: 1 if x=='Red' else 0).values\n",
    "df_ratio['Winner_draw'] = df_ratio.loc[:,'Winner'].map(lambda x: 1 if x=='Draw' else 0).values\n",
    "df_ratio =df_ratio.drop('Winner',axis=1)\n",
    "\n",
    "df_ration_diff = df_ratio[['B_Stance','R_Stance']].value_counts().reset_index().rename(columns={0:'counts'})\n",
    "\n",
    "ratio_target = df_ratio.groupby(['B_Stance','R_Stance']).agg('sum').reset_index()\n",
    "ratio_target_diff = ratio_target.loc[ratio_target.B_Stance != ratio_target.R_Stance]\n",
    "ratio_target_diff.head(3)\n",
    "\n",
    "dic={}\n",
    "for value in ratio_target_diff.values:\n",
    "    lst =[value[0],value[1]]\n",
    "    \n",
    "    if lst != sorted(lst):\n",
    "        target = value[1]+\"_\"+value[0]\n",
    "        \n",
    "        if target in dic.keys():\n",
    "            dic[target][0] += value[3]\n",
    "            dic[target][1] += value[2]\n",
    "            dic[target][2] += value[4]\n",
    "        else:\n",
    "            dic[target] = [value[3], value[2],value[4]]\n",
    "            \n",
    "    else:\n",
    "        target = value[0]+\"_\"+value[1]\n",
    "        if target in dic.keys():\n",
    "            dic[target][0] += value[2]\n",
    "            dic[target][1] += value[3]\n",
    "            dic[target][2] += value[4]\n",
    "        else:\n",
    "            dic[target] = [value[2],value[3],value[4] ]\n",
    "    \n",
    "sort_dic = {}\n",
    "\n",
    "for key,value in dic.items():\n",
    "    if value[0] <= value[1]:\n",
    "        new_key = key.split('_')[1]+\"_\"+key.split('_')[0]\n",
    "        sort_dic[new_key] = [value[1],value[0],value[2]]\n",
    "        \n",
    "    else:\n",
    "        sort_dic[key] =value\n",
    "\n",
    "ratio_df  = pd.DataFrame(sort_dic).T.rename(columns={0:'win',1:'lose',2:'draw'})\n",
    "\n",
    "ratio_df['ratio'] =ratio_df['win']/(ratio_df['win']+ratio_df['lose']+ratio_df['draw'])*100\n",
    "\n",
    "sp = pd.DataFrame(list(ratio_df.reset_index()['index'].str.split('_')))\n",
    "\n",
    "ratio_fi = pd.concat([sp,ratio_df['ratio'].reset_index(drop=True)],axis=1).rename(columns={0:'stance1',1:'stance2'})\\\n",
    "                .sort_values('ratio',ascending=False)"
   ]
  },
  {
   "cell_type": "code",
   "execution_count": 53,
   "metadata": {},
   "outputs": [
    {
     "data": {
      "text/html": [
       "<div>\n",
       "<style scoped>\n",
       "    .dataframe tbody tr th:only-of-type {\n",
       "        vertical-align: middle;\n",
       "    }\n",
       "\n",
       "    .dataframe tbody tr th {\n",
       "        vertical-align: top;\n",
       "    }\n",
       "\n",
       "    .dataframe thead th {\n",
       "        text-align: right;\n",
       "    }\n",
       "</style>\n",
       "<table border=\"1\" class=\"dataframe\">\n",
       "  <thead>\n",
       "    <tr style=\"text-align: right;\">\n",
       "      <th></th>\n",
       "      <th>stance1</th>\n",
       "      <th>stance2</th>\n",
       "      <th>ratio</th>\n",
       "    </tr>\n",
       "  </thead>\n",
       "  <tbody>\n",
       "    <tr>\n",
       "      <th>0</th>\n",
       "      <td>Open Stance</td>\n",
       "      <td>Orthodox</td>\n",
       "      <td>63.636364</td>\n",
       "    </tr>\n",
       "    <tr>\n",
       "      <th>2</th>\n",
       "      <td>Southpaw</td>\n",
       "      <td>Orthodox</td>\n",
       "      <td>52.050265</td>\n",
       "    </tr>\n",
       "    <tr>\n",
       "      <th>4</th>\n",
       "      <td>Switch</td>\n",
       "      <td>Southpaw</td>\n",
       "      <td>50.649351</td>\n",
       "    </tr>\n",
       "    <tr>\n",
       "      <th>3</th>\n",
       "      <td>Switch</td>\n",
       "      <td>Orthodox</td>\n",
       "      <td>50.375940</td>\n",
       "    </tr>\n",
       "    <tr>\n",
       "      <th>1</th>\n",
       "      <td>Southpaw</td>\n",
       "      <td>Open Stance</td>\n",
       "      <td>50.000000</td>\n",
       "    </tr>\n",
       "  </tbody>\n",
       "</table>\n",
       "</div>"
      ],
      "text/plain": [
       "       stance1      stance2      ratio\n",
       "0  Open Stance     Orthodox  63.636364\n",
       "2     Southpaw     Orthodox  52.050265\n",
       "4       Switch     Southpaw  50.649351\n",
       "3       Switch     Orthodox  50.375940\n",
       "1     Southpaw  Open Stance  50.000000"
      ]
     },
     "execution_count": 53,
     "metadata": {},
     "output_type": "execute_result"
    }
   ],
   "source": [
    "ratio_fi"
   ]
  },
  {
   "cell_type": "markdown",
   "metadata": {},
   "source": [
    "```{admonition} Q9\n",
    "*현재 하나의 row에 Red,Blue 2명의 데이터가 존재한다. 하나의 row에 한 선수의 정보가 들어가도록 아래와 같은 새로운 데이터프레임 newUfc를 정의하라.\n",
    "- 1. R_ ,B_ 가 공통으로 들어가는 컬럼명에서 해당 단어 제외\n",
    "- 2. R_ ,B_ 가 없는 컬럼들은 동일한 컬럼명으로 추가\n",
    "- 3. Winner 컬럼의 경우 승리한 경우 1, 패배하거나 비긴 경우 0 으로 변환*\n",
    "```"
   ]
  },
  {
   "cell_type": "code",
   "execution_count": 35,
   "metadata": {
    "tags": [
     "hide-input"
    ]
   },
   "outputs": [],
   "source": [
    "ufc['R_Winner'] = ufc['Winner'].map(lambda x: 1 if x =='Red' else 0)\n",
    "ufc['B_Winner'] = ufc['Winner'].map(lambda x: 1 if x =='Blue' else 0)\n",
    "\n",
    "R_ = [x  for x in ufc.columns if 'R_' in x]\n",
    "S_ = [x  for x in ufc.columns if 'B_' in x]\n",
    "else_col = [x  for x in ufc.columns if (x not in R_) and (x not in S_) ]\n",
    "else_col.remove('Winner')\n",
    "\n",
    "Rdf = ufc[R_+else_col]\n",
    "Rdf.columns = [x[2:] for x in R_] +else_col\n",
    "\n",
    "Sdf = ufc[S_+else_col]\n",
    "Sdf.columns = [x[2:] for x in S_] +else_col\n",
    "\n",
    "newUfc = pd.concat([Rdf,Sdf])"
   ]
  },
  {
   "cell_type": "code",
   "execution_count": 39,
   "metadata": {},
   "outputs": [
    {
     "data": {
      "text/html": [
       "<div>\n",
       "<style scoped>\n",
       "    .dataframe tbody tr th:only-of-type {\n",
       "        vertical-align: middle;\n",
       "    }\n",
       "\n",
       "    .dataframe tbody tr th {\n",
       "        vertical-align: top;\n",
       "    }\n",
       "\n",
       "    .dataframe thead th {\n",
       "        text-align: right;\n",
       "    }\n",
       "</style>\n",
       "<table border=\"1\" class=\"dataframe\">\n",
       "  <thead>\n",
       "    <tr style=\"text-align: right;\">\n",
       "      <th></th>\n",
       "      <th>fighter</th>\n",
       "      <th>wins</th>\n",
       "      <th>losses</th>\n",
       "      <th>draw</th>\n",
       "      <th>Stance</th>\n",
       "      <th>Height_cms</th>\n",
       "      <th>Reach_cms</th>\n",
       "      <th>Weight_lbs</th>\n",
       "      <th>age</th>\n",
       "      <th>Winner</th>\n",
       "      <th>Referee</th>\n",
       "      <th>date</th>\n",
       "      <th>location</th>\n",
       "      <th>title_bout</th>\n",
       "      <th>weight_class</th>\n",
       "      <th>Gender</th>\n",
       "      <th>year</th>\n",
       "    </tr>\n",
       "  </thead>\n",
       "  <tbody>\n",
       "    <tr>\n",
       "      <th>0</th>\n",
       "      <td>Adrian Yanez</td>\n",
       "      <td>1</td>\n",
       "      <td>0</td>\n",
       "      <td>0</td>\n",
       "      <td>Orthodox</td>\n",
       "      <td>170.18</td>\n",
       "      <td>177.80</td>\n",
       "      <td>135.0</td>\n",
       "      <td>27.0</td>\n",
       "      <td>1</td>\n",
       "      <td>Chris Tognoni</td>\n",
       "      <td>2021-03-20</td>\n",
       "      <td>Las Vegas, Nevada, USA</td>\n",
       "      <td>False</td>\n",
       "      <td>Bantamweight</td>\n",
       "      <td>male</td>\n",
       "      <td>2021</td>\n",
       "    </tr>\n",
       "    <tr>\n",
       "      <th>1</th>\n",
       "      <td>Trevin Giles</td>\n",
       "      <td>4</td>\n",
       "      <td>2</td>\n",
       "      <td>0</td>\n",
       "      <td>Orthodox</td>\n",
       "      <td>182.88</td>\n",
       "      <td>187.96</td>\n",
       "      <td>185.0</td>\n",
       "      <td>28.0</td>\n",
       "      <td>1</td>\n",
       "      <td>Herb Dean</td>\n",
       "      <td>2021-03-20</td>\n",
       "      <td>Las Vegas, Nevada, USA</td>\n",
       "      <td>False</td>\n",
       "      <td>Middleweight</td>\n",
       "      <td>male</td>\n",
       "      <td>2021</td>\n",
       "    </tr>\n",
       "    <tr>\n",
       "      <th>2</th>\n",
       "      <td>Tai Tuivasa</td>\n",
       "      <td>4</td>\n",
       "      <td>3</td>\n",
       "      <td>0</td>\n",
       "      <td>Southpaw</td>\n",
       "      <td>187.96</td>\n",
       "      <td>190.50</td>\n",
       "      <td>264.0</td>\n",
       "      <td>28.0</td>\n",
       "      <td>1</td>\n",
       "      <td>Herb Dean</td>\n",
       "      <td>2021-03-20</td>\n",
       "      <td>Las Vegas, Nevada, USA</td>\n",
       "      <td>False</td>\n",
       "      <td>Heavyweight</td>\n",
       "      <td>male</td>\n",
       "      <td>2021</td>\n",
       "    </tr>\n",
       "  </tbody>\n",
       "</table>\n",
       "</div>"
      ],
      "text/plain": [
       "        fighter  wins  losses  draw    Stance  Height_cms  Reach_cms  \\\n",
       "0  Adrian Yanez     1       0     0  Orthodox      170.18     177.80   \n",
       "1  Trevin Giles     4       2     0  Orthodox      182.88     187.96   \n",
       "2   Tai Tuivasa     4       3     0  Southpaw      187.96     190.50   \n",
       "\n",
       "   Weight_lbs   age  Winner        Referee       date                location  \\\n",
       "0       135.0  27.0       1  Chris Tognoni 2021-03-20  Las Vegas, Nevada, USA   \n",
       "1       185.0  28.0       1      Herb Dean 2021-03-20  Las Vegas, Nevada, USA   \n",
       "2       264.0  28.0       1      Herb Dean 2021-03-20  Las Vegas, Nevada, USA   \n",
       "\n",
       "   title_bout  weight_class Gender  year  \n",
       "0       False  Bantamweight   male  2021  \n",
       "1       False  Middleweight   male  2021  \n",
       "2       False   Heavyweight   male  2021  "
      ]
     },
     "execution_count": 39,
     "metadata": {},
     "output_type": "execute_result"
    }
   ],
   "source": [
    "newUfc.head(3)"
   ]
  },
  {
   "cell_type": "markdown",
   "metadata": {},
   "source": [
    "```{admonition} Q10\n",
    "**각 선수(name)의 첫시합과 마지막 시합날짜의 차이를 구하여 현역활동 기간을 일(days)수로 표현하여 데이터프레임을 만들고 Active_per 변수에 저장하라. 만약 대회를 1번만 참가하였다면 현역활동 기간을 1로 입력한다. 활동기간이 긴 순서대로 정렬하라**\n",
    "```"
   ]
  },
  {
   "cell_type": "code",
   "execution_count": 40,
   "metadata": {
    "tags": [
     "hide-input"
    ]
   },
   "outputs": [],
   "source": [
    "lst= [] \n",
    "for name in newUfc.fighter.unique():\n",
    "    df = newUfc.loc[newUfc.fighter ==name]\n",
    "    df = df.sort_values('date')\n",
    "    \n",
    "    if len(df) ==1:\n",
    "        lst.append(np.timedelta64(1, 'D'))\n",
    "        \n",
    "    else:\n",
    "        lst.append(df.date.values[-1] -df.date.values[0])\n",
    "\n",
    "Active_per = pd.DataFrame([newUfc.fighter.unique(),lst]).T.rename(columns={0:'name',1:'days'})\n",
    "\n",
    "Active_per['days'] = Active_per['days'].dt.days\n",
    "\n",
    "Active_per = Active_per.sort_values('days',ascending=False).reset_index(drop=True)"
   ]
  },
  {
   "cell_type": "code",
   "execution_count": 44,
   "metadata": {},
   "outputs": [
    {
     "data": {
      "text/html": [
       "<div>\n",
       "<style scoped>\n",
       "    .dataframe tbody tr th:only-of-type {\n",
       "        vertical-align: middle;\n",
       "    }\n",
       "\n",
       "    .dataframe tbody tr th {\n",
       "        vertical-align: top;\n",
       "    }\n",
       "\n",
       "    .dataframe thead th {\n",
       "        text-align: right;\n",
       "    }\n",
       "</style>\n",
       "<table border=\"1\" class=\"dataframe\">\n",
       "  <thead>\n",
       "    <tr style=\"text-align: right;\">\n",
       "      <th></th>\n",
       "      <th>name</th>\n",
       "      <th>days</th>\n",
       "    </tr>\n",
       "  </thead>\n",
       "  <tbody>\n",
       "    <tr>\n",
       "      <th>0</th>\n",
       "      <td>Vitor Belfort</td>\n",
       "      <td>7512</td>\n",
       "    </tr>\n",
       "    <tr>\n",
       "      <th>1</th>\n",
       "      <td>Robbie Lawler</td>\n",
       "      <td>6686</td>\n",
       "    </tr>\n",
       "    <tr>\n",
       "      <th>2</th>\n",
       "      <td>BJ Penn</td>\n",
       "      <td>6399</td>\n",
       "    </tr>\n",
       "    <tr>\n",
       "      <th>3</th>\n",
       "      <td>Andrei Arlovski</td>\n",
       "      <td>6357</td>\n",
       "    </tr>\n",
       "    <tr>\n",
       "      <th>4</th>\n",
       "      <td>Diego Sanchez</td>\n",
       "      <td>5649</td>\n",
       "    </tr>\n",
       "    <tr>\n",
       "      <th>...</th>\n",
       "      <td>...</td>\n",
       "      <td>...</td>\n",
       "    </tr>\n",
       "    <tr>\n",
       "      <th>1467</th>\n",
       "      <td>Richie Smullen</td>\n",
       "      <td>1</td>\n",
       "    </tr>\n",
       "    <tr>\n",
       "      <th>1468</th>\n",
       "      <td>Joe Giannetti</td>\n",
       "      <td>1</td>\n",
       "    </tr>\n",
       "    <tr>\n",
       "      <th>1469</th>\n",
       "      <td>Abu Azaitar</td>\n",
       "      <td>1</td>\n",
       "    </tr>\n",
       "    <tr>\n",
       "      <th>1470</th>\n",
       "      <td>Kanako Murata</td>\n",
       "      <td>1</td>\n",
       "    </tr>\n",
       "    <tr>\n",
       "      <th>1471</th>\n",
       "      <td>Alex Karalexis</td>\n",
       "      <td>1</td>\n",
       "    </tr>\n",
       "  </tbody>\n",
       "</table>\n",
       "<p>1472 rows × 2 columns</p>\n",
       "</div>"
      ],
      "text/plain": [
       "                 name  days\n",
       "0       Vitor Belfort  7512\n",
       "1       Robbie Lawler  6686\n",
       "2             BJ Penn  6399\n",
       "3     Andrei Arlovski  6357\n",
       "4       Diego Sanchez  5649\n",
       "...               ...   ...\n",
       "1467   Richie Smullen     1\n",
       "1468    Joe Giannetti     1\n",
       "1469      Abu Azaitar     1\n",
       "1470    Kanako Murata     1\n",
       "1471   Alex Karalexis     1\n",
       "\n",
       "[1472 rows x 2 columns]"
      ]
     },
     "execution_count": 44,
     "metadata": {},
     "output_type": "execute_result"
    }
   ],
   "source": [
    "Active_per"
   ]
  },
  {
   "cell_type": "markdown",
   "metadata": {},
   "source": [
    "```{admonition} Q11\n",
    "**각 선수들의 활동기간상의 최대 연승 횟수를 파악하려한다. (Winner 컬럼의 결과가 1인 경우를 기준으로 연승여부를 판단하라.) 선수명 연승 횟수를 담은 데이터프레임을 만들고 steakWin 변수에 저장하라. 연승횟수가 많은 선수 순서대로 정렬하라**\n",
    "```"
   ]
  },
  {
   "cell_type": "code",
   "execution_count": 45,
   "metadata": {
    "tags": [
     "hide-input"
    ]
   },
   "outputs": [],
   "source": [
    "new_lst= []\n",
    "for value in newUfc.fighter.unique():\n",
    "    each_df = newUfc[['Winner','date']][newUfc.fighter ==value].sort_values('date',ascending=False)\n",
    "    if len(each_df[::-1][['Winner']].Winner.unique()) ==1 and each_df[::-1][['Winner']].Winner.unique()[0] ==0:\n",
    "        new_lst.append([value,0])\n",
    "    else:\n",
    "        max_count =max([len(x) for x in ''.join(each_df[::-1][['Winner']]\\\n",
    "                                                 .Winner.astype('str').values).split('0') if x!=''])\n",
    "        new_lst.append([value,max_count])\n",
    "\n",
    "steakWin = pd.DataFrame(new_lst).rename(columns={0:'name',1:'steakWinCount'})\\\n",
    "                             .sort_values('steakWinCount',ascending=False)\\\n",
    "                             .reset_index(drop=True)\n",
    "\n",
    "# newUfc.loc[newUfc.fighter =='Georges St-Pierre'].sort_values('date',ascending=False)\n",
    "\n",
    "steakWin =steakWin.sort_values(['steakWinCount','name'],ascending=False).reset_index(drop=True)"
   ]
  },
  {
   "cell_type": "code",
   "execution_count": 49,
   "metadata": {},
   "outputs": [
    {
     "data": {
      "text/html": [
       "<div>\n",
       "<style scoped>\n",
       "    .dataframe tbody tr th:only-of-type {\n",
       "        vertical-align: middle;\n",
       "    }\n",
       "\n",
       "    .dataframe tbody tr th {\n",
       "        vertical-align: top;\n",
       "    }\n",
       "\n",
       "    .dataframe thead th {\n",
       "        text-align: right;\n",
       "    }\n",
       "</style>\n",
       "<table border=\"1\" class=\"dataframe\">\n",
       "  <thead>\n",
       "    <tr style=\"text-align: right;\">\n",
       "      <th></th>\n",
       "      <th>name</th>\n",
       "      <th>steakWinCount</th>\n",
       "    </tr>\n",
       "  </thead>\n",
       "  <tbody>\n",
       "    <tr>\n",
       "      <th>0</th>\n",
       "      <td>Anderson Silva</td>\n",
       "      <td>16</td>\n",
       "    </tr>\n",
       "    <tr>\n",
       "      <th>1</th>\n",
       "      <td>Khabib Nurmagomedov</td>\n",
       "      <td>13</td>\n",
       "    </tr>\n",
       "    <tr>\n",
       "      <th>2</th>\n",
       "      <td>Jon Jones</td>\n",
       "      <td>13</td>\n",
       "    </tr>\n",
       "    <tr>\n",
       "      <th>3</th>\n",
       "      <td>Georges St-Pierre</td>\n",
       "      <td>13</td>\n",
       "    </tr>\n",
       "    <tr>\n",
       "      <th>4</th>\n",
       "      <td>Demetrious Johnson</td>\n",
       "      <td>13</td>\n",
       "    </tr>\n",
       "    <tr>\n",
       "      <th>...</th>\n",
       "      <td>...</td>\n",
       "      <td>...</td>\n",
       "    </tr>\n",
       "    <tr>\n",
       "      <th>1467</th>\n",
       "      <td>Adam Yandiev</td>\n",
       "      <td>0</td>\n",
       "    </tr>\n",
       "    <tr>\n",
       "      <th>1468</th>\n",
       "      <td>Abubakar Nurmagomedov</td>\n",
       "      <td>0</td>\n",
       "    </tr>\n",
       "    <tr>\n",
       "      <th>1469</th>\n",
       "      <td>Aaron Rosa</td>\n",
       "      <td>0</td>\n",
       "    </tr>\n",
       "    <tr>\n",
       "      <th>1470</th>\n",
       "      <td>Aaron Phillips</td>\n",
       "      <td>0</td>\n",
       "    </tr>\n",
       "    <tr>\n",
       "      <th>1471</th>\n",
       "      <td>Aalon Cruz</td>\n",
       "      <td>0</td>\n",
       "    </tr>\n",
       "  </tbody>\n",
       "</table>\n",
       "<p>1472 rows × 2 columns</p>\n",
       "</div>"
      ],
      "text/plain": [
       "                       name  steakWinCount\n",
       "0            Anderson Silva             16\n",
       "1       Khabib Nurmagomedov             13\n",
       "2                 Jon Jones             13\n",
       "3         Georges St-Pierre             13\n",
       "4        Demetrious Johnson             13\n",
       "...                     ...            ...\n",
       "1467           Adam Yandiev              0\n",
       "1468  Abubakar Nurmagomedov              0\n",
       "1469             Aaron Rosa              0\n",
       "1470         Aaron Phillips              0\n",
       "1471             Aalon Cruz              0\n",
       "\n",
       "[1472 rows x 2 columns]"
      ]
     },
     "execution_count": 49,
     "metadata": {},
     "output_type": "execute_result"
    }
   ],
   "source": [
    "steakWin"
   ]
  },
  {
   "cell_type": "markdown",
   "metadata": {},
   "source": [
    "```{admonition} Q12\n",
    "**년도별 남녀 선수의 나이를 box 그래프로 아래와 같이 나타내라**\n",
    "```"
   ]
  },
  {
   "cell_type": "code",
   "execution_count": 62,
   "metadata": {
    "tags": [
     "hide-input"
    ]
   },
   "outputs": [
    {
     "data": {
      "text/plain": [
       "Text(0.5, 1.0, 'Boxplot of Age of year')"
      ]
     },
     "execution_count": 62,
     "metadata": {},
     "output_type": "execute_result"
    },
    {
     "data": {
      "image/png": "[encoded data removed]",
      "text/plain": [
       "<Figure size 1080x504 with 1 Axes>"
      ]
     },
     "metadata": {
      "needs_background": "light"
     },
     "output_type": "display_data"
    }
   ],
   "source": [
    "import seaborn as sns\n",
    "\n",
    "plt.figure(figsize=(15,7))\n",
    "sns.boxplot(x='year',y='age',hue='Gender',data=newUfc)\n",
    "plt.title('Boxplot of Age of year',fontsize=15)"
   ]
  }
 ],
 "metadata": {
  "celltoolbar": "Edit Metadata",
  "kernelspec": {
   "display_name": "Python 3",
   "language": "python",
   "name": "python3"
  },
  "language_info": {
   "codemirror_mode": {
    "name": "ipython",
    "version": 3
   },
   "file_extension": ".py",
   "mimetype": "text/x-python",
   "name": "python",
   "nbconvert_exporter": "python",
   "pygments_lexer": "ipython3",
   "version": "3.8.2"
  }
 },
 "nbformat": 4,
 "nbformat_minor": 4
}
