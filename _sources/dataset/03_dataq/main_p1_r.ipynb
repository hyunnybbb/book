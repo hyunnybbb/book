{
 "cells": [
  {
   "cell_type": "markdown",
   "metadata": {},
   "source": [
    "# 작업형 제 1유형 예시문제 (코드기여자 : 익명요청 ㅠ)"
   ]
  },
  {
   "cell_type": "markdown",
   "metadata": {},
   "source": [
    "```{admonition} Question 1\n",
    "**mtcars 데이터셋(mtcars.csv)의 qsec 컬럼을 최소 최대 척도(min-max scale)로 변환한 후 0.5보다 큰 값을 가지는 레코드 수를 구하시오.**\n",
    "```"
   ]
  },
  {
   "cell_type": "code",
   "execution_count": 1,
   "metadata": {},
   "outputs": [
    {
     "data": {
      "text/html": [
       "<table>\n",
       "<thead><tr><th></th><th scope=col>mpg</th><th scope=col>cyl</th><th scope=col>disp</th><th scope=col>hp</th><th scope=col>drat</th><th scope=col>wt</th><th scope=col>qsec</th><th scope=col>vs</th><th scope=col>am</th><th scope=col>gear</th><th scope=col>carb</th></tr></thead>\n",
       "<tbody>\n",
       "\t<tr><th scope=row>Mazda RX4</th><td>21.0 </td><td>6    </td><td>160  </td><td>110  </td><td>3.90 </td><td>2.620</td><td>16.46</td><td>0    </td><td>1    </td><td>4    </td><td>4    </td></tr>\n",
       "\t<tr><th scope=row>Mazda RX4 Wag</th><td>21.0 </td><td>6    </td><td>160  </td><td>110  </td><td>3.90 </td><td>2.875</td><td>17.02</td><td>0    </td><td>1    </td><td>4    </td><td>4    </td></tr>\n",
       "\t<tr><th scope=row>Datsun 710</th><td>22.8 </td><td>4    </td><td>108  </td><td> 93  </td><td>3.85 </td><td>2.320</td><td>18.61</td><td>1    </td><td>1    </td><td>4    </td><td>1    </td></tr>\n",
       "\t<tr><th scope=row>Hornet 4 Drive</th><td>21.4 </td><td>6    </td><td>258  </td><td>110  </td><td>3.08 </td><td>3.215</td><td>19.44</td><td>1    </td><td>0    </td><td>3    </td><td>1    </td></tr>\n",
       "\t<tr><th scope=row>Hornet Sportabout</th><td>18.7 </td><td>8    </td><td>360  </td><td>175  </td><td>3.15 </td><td>3.440</td><td>17.02</td><td>0    </td><td>0    </td><td>3    </td><td>2    </td></tr>\n",
       "\t<tr><th scope=row>Valiant</th><td>18.1 </td><td>6    </td><td>225  </td><td>105  </td><td>2.76 </td><td>3.460</td><td>20.22</td><td>1    </td><td>0    </td><td>3    </td><td>1    </td></tr>\n",
       "</tbody>\n",
       "</table>\n"
      ],
      "text/latex": [
       "\\begin{tabular}{r|lllllllllll}\n",
       "  & mpg & cyl & disp & hp & drat & wt & qsec & vs & am & gear & carb\\\\\n",
       "\\hline\n",
       "\tMazda RX4 & 21.0  & 6     & 160   & 110   & 3.90  & 2.620 & 16.46 & 0     & 1     & 4     & 4    \\\\\n",
       "\tMazda RX4 Wag & 21.0  & 6     & 160   & 110   & 3.90  & 2.875 & 17.02 & 0     & 1     & 4     & 4    \\\\\n",
       "\tDatsun 710 & 22.8  & 4     & 108   &  93   & 3.85  & 2.320 & 18.61 & 1     & 1     & 4     & 1    \\\\\n",
       "\tHornet 4 Drive & 21.4  & 6     & 258   & 110   & 3.08  & 3.215 & 19.44 & 1     & 0     & 3     & 1    \\\\\n",
       "\tHornet Sportabout & 18.7  & 8     & 360   & 175   & 3.15  & 3.440 & 17.02 & 0     & 0     & 3     & 2    \\\\\n",
       "\tValiant & 18.1  & 6     & 225   & 105   & 2.76  & 3.460 & 20.22 & 1     & 0     & 3     & 1    \\\\\n",
       "\\end{tabular}\n"
      ],
      "text/markdown": [
       "\n",
       "| <!--/--> | mpg | cyl | disp | hp | drat | wt | qsec | vs | am | gear | carb |\n",
       "|---|---|---|---|---|---|---|---|---|---|---|---|\n",
       "| Mazda RX4 | 21.0  | 6     | 160   | 110   | 3.90  | 2.620 | 16.46 | 0     | 1     | 4     | 4     |\n",
       "| Mazda RX4 Wag | 21.0  | 6     | 160   | 110   | 3.90  | 2.875 | 17.02 | 0     | 1     | 4     | 4     |\n",
       "| Datsun 710 | 22.8  | 4     | 108   |  93   | 3.85  | 2.320 | 18.61 | 1     | 1     | 4     | 1     |\n",
       "| Hornet 4 Drive | 21.4  | 6     | 258   | 110   | 3.08  | 3.215 | 19.44 | 1     | 0     | 3     | 1     |\n",
       "| Hornet Sportabout | 18.7  | 8     | 360   | 175   | 3.15  | 3.440 | 17.02 | 0     | 0     | 3     | 2     |\n",
       "| Valiant | 18.1  | 6     | 225   | 105   | 2.76  | 3.460 | 20.22 | 1     | 0     | 3     | 1     |\n",
       "\n"
      ],
      "text/plain": [
       "                  mpg  cyl disp hp  drat wt    qsec  vs am gear carb\n",
       "Mazda RX4         21.0 6   160  110 3.90 2.620 16.46 0  1  4    4   \n",
       "Mazda RX4 Wag     21.0 6   160  110 3.90 2.875 17.02 0  1  4    4   \n",
       "Datsun 710        22.8 4   108   93 3.85 2.320 18.61 1  1  4    1   \n",
       "Hornet 4 Drive    21.4 6   258  110 3.08 3.215 19.44 1  0  3    1   \n",
       "Hornet Sportabout 18.7 8   360  175 3.15 3.440 17.02 0  0  3    2   \n",
       "Valiant           18.1 6   225  105 2.76 3.460 20.22 1  0  3    1   "
      ]
     },
     "metadata": {},
     "output_type": "display_data"
    }
   ],
   "source": [
    "mtcars<- read.csv(\"https://raw.githubusercontent.com/Datamanim/dataq/main/mtcars.csv\",row.names=1)\n",
    "head(mtcars)"
   ]
  },
  {
   "cell_type": "code",
   "execution_count": 2,
   "metadata": {},
   "outputs": [
    {
     "data": {
      "text/html": [
       "9"
      ],
      "text/latex": [
       "9"
      ],
      "text/markdown": [
       "9"
      ],
      "text/plain": [
       "[1] 9"
      ]
     },
     "metadata": {},
     "output_type": "display_data"
    }
   ],
   "source": [
    "## 1) 사용자 정의 함수\n",
    "\n",
    "min_max_scale<-function(x){\n",
    "  return ((x-min(x))/(max(x)-min(x)))\n",
    "}\n",
    "\n",
    "ans11 <- min_max_scale(mtcars$qsec)\n",
    "sum(ans11 > 0.5)"
   ]
  },
  {
   "cell_type": "code",
   "execution_count": 3,
   "metadata": {},
   "outputs": [],
   "source": [
    "#colab에서는 세션마다 패키지를 설치 필요, 편의서을 위해 아래 함수를 작성함\n",
    "check_package <- function(name){\n",
    "    if(!name %in% rownames(installed.packages())){\n",
    "        install.packages(name)\n",
    "    }\n",
    "}\n",
    "\n",
    "check_package(\"caret\")"
   ]
  },
  {
   "cell_type": "code",
   "execution_count": 4,
   "metadata": {},
   "outputs": [
    {
     "name": "stderr",
     "output_type": "stream",
     "text": [
      "Loading required package: lattice\n",
      "Loading required package: ggplot2\n",
      "Registered S3 methods overwritten by 'ggplot2':\n",
      "  method         from \n",
      "  [.quosures     rlang\n",
      "  c.quosures     rlang\n",
      "  print.quosures rlang\n"
     ]
    },
    {
     "data": {
      "text/html": [
       "9"
      ],
      "text/latex": [
       "9"
      ],
      "text/markdown": [
       "9"
      ],
      "text/plain": [
       "[1] 9"
      ]
     },
     "metadata": {},
     "output_type": "display_data"
    }
   ],
   "source": [
    "## 2) caret 라이브러리 사용\n",
    "\n",
    "library(caret)\n",
    "min_max_model <- preProcess(mtcars, method=\"range\")\n",
    "ans12 <- predict(min_max_model, mtcars)$qsec\n",
    "sum(ans12 > 0.5)"
   ]
  },
  {
   "cell_type": "markdown",
   "metadata": {},
   "source": [
    "```{admonition} Question 2\n",
    "**mtcars 데이터셋(mtcars.csv)의 qsec 컬럼을 표준정규분포 데이터 표준화 (standardization) 변환 후 최대, 최소값을 각각 구하시오.**\n",
    "```"
   ]
  },
  {
   "cell_type": "code",
   "execution_count": 5,
   "metadata": {},
   "outputs": [
    {
     "data": {
      "text/html": [
       "<ol class=list-inline>\n",
       "\t<li>2.82675459296249</li>\n",
       "\t<li>-1.87401028323348</li>\n",
       "</ol>\n"
      ],
      "text/latex": [
       "\\begin{enumerate*}\n",
       "\\item 2.82675459296249\n",
       "\\item -1.87401028323348\n",
       "\\end{enumerate*}\n"
      ],
      "text/markdown": [
       "1. 2.82675459296249\n",
       "2. -1.87401028323348\n",
       "\n",
       "\n"
      ],
      "text/plain": [
       "[1]  2.826755 -1.874010"
      ]
     },
     "metadata": {},
     "output_type": "display_data"
    }
   ],
   "source": [
    "## 1) scale() 함수 이용\n",
    "\n",
    "ans21 <- scale(mtcars$qsec)\n",
    "range(ans21)[2:1]"
   ]
  },
  {
   "cell_type": "code",
   "execution_count": 6,
   "metadata": {},
   "outputs": [
    {
     "data": {
      "text/html": [
       "<ol class=list-inline>\n",
       "\t<li>2.82675459296249</li>\n",
       "\t<li>-1.87401028323348</li>\n",
       "</ol>\n"
      ],
      "text/latex": [
       "\\begin{enumerate*}\n",
       "\\item 2.82675459296249\n",
       "\\item -1.87401028323348\n",
       "\\end{enumerate*}\n"
      ],
      "text/markdown": [
       "1. 2.82675459296249\n",
       "2. -1.87401028323348\n",
       "\n",
       "\n"
      ],
      "text/plain": [
       "[1]  2.826755 -1.874010"
      ]
     },
     "metadata": {},
     "output_type": "display_data"
    }
   ],
   "source": [
    "## 2) 사용자 정의 함수\n",
    "\n",
    "standardization <- function(x){\n",
    "  return((x-mean(x))/sd(x))\n",
    "}\n",
    "\n",
    "ans22 <- standardization(mtcars$qsec)\n",
    "range(ans22)[2:1]"
   ]
  },
  {
   "cell_type": "code",
   "execution_count": 7,
   "metadata": {},
   "outputs": [
    {
     "data": {
      "text/html": [
       "<ol class=list-inline>\n",
       "\t<li>2.82675459296249</li>\n",
       "\t<li>-1.87401028323348</li>\n",
       "</ol>\n"
      ],
      "text/latex": [
       "\\begin{enumerate*}\n",
       "\\item 2.82675459296249\n",
       "\\item -1.87401028323348\n",
       "\\end{enumerate*}\n"
      ],
      "text/markdown": [
       "1. 2.82675459296249\n",
       "2. -1.87401028323348\n",
       "\n",
       "\n"
      ],
      "text/plain": [
       "[1]  2.826755 -1.874010"
      ]
     },
     "metadata": {},
     "output_type": "display_data"
    }
   ],
   "source": [
    "## 3) caret 라이브러리 사용\n",
    "\n",
    "stand_model <- preProcess(mtcars) #default: standardization\n",
    "ans23 <- predict(stand_model, mtcars)$qsec\n",
    "range(ans23)[2:1]"
   ]
  },
  {
   "cell_type": "markdown",
   "metadata": {},
   "source": [
    "```{admonition} Question 3\n",
    "**mtcars 데이터셋(mtcars.csv)의 wt 컬럼의 이상치(IQR *1.5 외부에 존재하는)값들을 outlier 변수에 저장하라**\n",
    "```"
   ]
  },
  {
   "cell_type": "code",
   "execution_count": 8,
   "metadata": {},
   "outputs": [],
   "source": [
    "# Q1, Q3, IQR 계산\n",
    "q25 <- quantile(mtcars$wt, 0.25)\n",
    "q75 <- quantile(mtcars$wt, 0.75)\n",
    "iqr <- q75 - q25"
   ]
  },
  {
   "cell_type": "code",
   "execution_count": 9,
   "metadata": {},
   "outputs": [
    {
     "data": {
      "text/html": [
       "<ol class=list-inline>\n",
       "\t<li>5.25</li>\n",
       "\t<li>5.424</li>\n",
       "\t<li>5.345</li>\n",
       "</ol>\n"
      ],
      "text/latex": [
       "\\begin{enumerate*}\n",
       "\\item 5.25\n",
       "\\item 5.424\n",
       "\\item 5.345\n",
       "\\end{enumerate*}\n"
      ],
      "text/markdown": [
       "1. 5.25\n",
       "2. 5.424\n",
       "3. 5.345\n",
       "\n",
       "\n"
      ],
      "text/plain": [
       "[1] 5.250 5.424 5.345"
      ]
     },
     "metadata": {},
     "output_type": "display_data"
    }
   ],
   "source": [
    "# outlier 저장\n",
    "flag <- mtcars$wt >= (q75+1.5*iqr) | mtcars$wt <= (q25-1.5*iqr)\n",
    "outlier <- mtcars$wt[flag]\n",
    "outlier"
   ]
  },
  {
   "cell_type": "markdown",
   "metadata": {},
   "source": [
    "```{admonition} Question 4\n",
    "**mtcars 데이터셋에서 mpg변수와 나머지 변수들의 상관계수를 구하여 다음과 같이 내림차순 정렬하여 표현하라**\n",
    "```"
   ]
  },
  {
   "cell_type": "code",
   "execution_count": 10,
   "metadata": {},
   "outputs": [
    {
     "data": {
      "text/html": [
       "<table>\n",
       "<thead><tr><th></th><th scope=col>sort(cor(mtcars)[-1, 1], decreasing = T)</th></tr></thead>\n",
       "<tbody>\n",
       "\t<tr><th scope=row>drat</th><td> 0.6811719</td></tr>\n",
       "\t<tr><th scope=row>vs</th><td> 0.6640389</td></tr>\n",
       "\t<tr><th scope=row>am</th><td> 0.5998324</td></tr>\n",
       "\t<tr><th scope=row>gear</th><td> 0.4802848</td></tr>\n",
       "\t<tr><th scope=row>qsec</th><td> 0.4186840</td></tr>\n",
       "\t<tr><th scope=row>carb</th><td>-0.5509251</td></tr>\n",
       "\t<tr><th scope=row>hp</th><td>-0.7761684</td></tr>\n",
       "\t<tr><th scope=row>disp</th><td>-0.8475514</td></tr>\n",
       "\t<tr><th scope=row>cyl</th><td>-0.8521620</td></tr>\n",
       "\t<tr><th scope=row>wt</th><td>-0.8676594</td></tr>\n",
       "</tbody>\n",
       "</table>\n"
      ],
      "text/latex": [
       "\\begin{tabular}{r|l}\n",
       "  & sort(cor(mtcars){[}-1, 1{]}, decreasing = T)\\\\\n",
       "\\hline\n",
       "\tdrat &  0.6811719\\\\\n",
       "\tvs &  0.6640389\\\\\n",
       "\tam &  0.5998324\\\\\n",
       "\tgear &  0.4802848\\\\\n",
       "\tqsec &  0.4186840\\\\\n",
       "\tcarb & -0.5509251\\\\\n",
       "\thp & -0.7761684\\\\\n",
       "\tdisp & -0.8475514\\\\\n",
       "\tcyl & -0.8521620\\\\\n",
       "\twt & -0.8676594\\\\\n",
       "\\end{tabular}\n"
      ],
      "text/markdown": [
       "\n",
       "| <!--/--> | sort(cor(mtcars)[-1, 1], decreasing = T) |\n",
       "|---|---|\n",
       "| drat |  0.6811719 |\n",
       "| vs |  0.6640389 |\n",
       "| am |  0.5998324 |\n",
       "| gear |  0.4802848 |\n",
       "| qsec |  0.4186840 |\n",
       "| carb | -0.5509251 |\n",
       "| hp | -0.7761684 |\n",
       "| disp | -0.8475514 |\n",
       "| cyl | -0.8521620 |\n",
       "| wt | -0.8676594 |\n",
       "\n"
      ],
      "text/plain": [
       "     sort(cor(mtcars)[-1, 1], decreasing = T)\n",
       "drat  0.6811719                              \n",
       "vs    0.6640389                              \n",
       "am    0.5998324                              \n",
       "gear  0.4802848                              \n",
       "qsec  0.4186840                              \n",
       "carb -0.5509251                              \n",
       "hp   -0.7761684                              \n",
       "disp -0.8475514                              \n",
       "cyl  -0.8521620                              \n",
       "wt   -0.8676594                              "
      ]
     },
     "metadata": {},
     "output_type": "display_data"
    }
   ],
   "source": [
    "as.data.frame(sort(cor(mtcars)[-1,1],decreasing = T))"
   ]
  },
  {
   "cell_type": "markdown",
   "metadata": {},
   "source": [
    "```{admonition} Question 5\n",
    "**mtcars 데이터셋에서 mpg변수를 제외하고 데이터 정규화 (standardscaler) 과정을 진행한 이후 PCA를 통해 변수 축소를 하려한다. 누적설명 분산량이 92%를 넘기기 위해서는 몇개의 주성분을 선택해야하는지 설명하라**\n",
    "```"
   ]
  },
  {
   "cell_type": "code",
   "execution_count": 11,
   "metadata": {
    "scrolled": true
   },
   "outputs": [
    {
     "data": {
      "text/plain": [
       "Importance of components:\n",
       "                         PC1   PC2     PC3     PC4     PC5     PC6     PC7\n",
       "Standard deviation     2.400 1.628 0.77280 0.51914 0.47143 0.45839 0.36458\n",
       "Proportion of Variance 0.576 0.265 0.05972 0.02695 0.02223 0.02101 0.01329\n",
       "Cumulative Proportion  0.576 0.841 0.90071 0.92766 0.94988 0.97089 0.98419\n",
       "                           PC8     PC9    PC10\n",
       "Standard deviation     0.28405 0.23163 0.15426\n",
       "Proportion of Variance 0.00807 0.00537 0.00238\n",
       "Cumulative Proportion  0.99226 0.99762 1.00000"
      ]
     },
     "metadata": {},
     "output_type": "display_data"
    }
   ],
   "source": [
    "mtcars_q5 <- mtcars[,-1]\n",
    "mtcars_q5_scale <- scale(mtcars_q5)\n",
    "\n",
    "pca <- prcomp(mtcars_q5_scale)\n",
    "summary(pca)"
   ]
  },
  {
   "cell_type": "markdown",
   "metadata": {},
   "source": [
    "> 4개의 주성분을 사용할 때 Cumulative Proportion이 92%를 넘김"
   ]
  },
  {
   "cell_type": "markdown",
   "metadata": {},
   "source": [
    "```{admonition} Question 6\n",
    "**mtcars 의 index는 (업체명) - (모델명)으로 구성된다. (valiant는 업체명) mtcars에 'brand' 컬럼을 추가하고 value 값으로 업체명을 입력하라**\n",
    "```"
   ]
  },
  {
   "cell_type": "code",
   "execution_count": 12,
   "metadata": {
    "scrolled": true
   },
   "outputs": [
    {
     "data": {
      "text/html": [
       "<ol class=list-inline>\n",
       "\t<li>'Mazda'</li>\n",
       "\t<li>'Mazda'</li>\n",
       "\t<li>'Datsun'</li>\n",
       "\t<li>'Hornet'</li>\n",
       "\t<li>'Hornet'</li>\n",
       "\t<li>'Valiant'</li>\n",
       "\t<li>'Duster'</li>\n",
       "\t<li>'Merc'</li>\n",
       "\t<li>'Merc'</li>\n",
       "\t<li>'Merc'</li>\n",
       "\t<li>'Merc'</li>\n",
       "\t<li>'Merc'</li>\n",
       "\t<li>'Merc'</li>\n",
       "\t<li>'Merc'</li>\n",
       "\t<li>'Cadillac'</li>\n",
       "\t<li>'Lincoln'</li>\n",
       "\t<li>'Chrysler'</li>\n",
       "\t<li>'Fiat'</li>\n",
       "\t<li>'Honda'</li>\n",
       "\t<li>'Toyota'</li>\n",
       "\t<li>'Toyota'</li>\n",
       "\t<li>'Dodge'</li>\n",
       "\t<li>'AMC'</li>\n",
       "\t<li>'Camaro'</li>\n",
       "\t<li>'Pontiac'</li>\n",
       "\t<li>'Fiat'</li>\n",
       "\t<li>'Porsche'</li>\n",
       "\t<li>'Lotus'</li>\n",
       "\t<li>'Ford'</li>\n",
       "\t<li>'Ferrari'</li>\n",
       "\t<li>'Maserati'</li>\n",
       "\t<li>'Volvo'</li>\n",
       "</ol>\n"
      ],
      "text/latex": [
       "\\begin{enumerate*}\n",
       "\\item 'Mazda'\n",
       "\\item 'Mazda'\n",
       "\\item 'Datsun'\n",
       "\\item 'Hornet'\n",
       "\\item 'Hornet'\n",
       "\\item 'Valiant'\n",
       "\\item 'Duster'\n",
       "\\item 'Merc'\n",
       "\\item 'Merc'\n",
       "\\item 'Merc'\n",
       "\\item 'Merc'\n",
       "\\item 'Merc'\n",
       "\\item 'Merc'\n",
       "\\item 'Merc'\n",
       "\\item 'Cadillac'\n",
       "\\item 'Lincoln'\n",
       "\\item 'Chrysler'\n",
       "\\item 'Fiat'\n",
       "\\item 'Honda'\n",
       "\\item 'Toyota'\n",
       "\\item 'Toyota'\n",
       "\\item 'Dodge'\n",
       "\\item 'AMC'\n",
       "\\item 'Camaro'\n",
       "\\item 'Pontiac'\n",
       "\\item 'Fiat'\n",
       "\\item 'Porsche'\n",
       "\\item 'Lotus'\n",
       "\\item 'Ford'\n",
       "\\item 'Ferrari'\n",
       "\\item 'Maserati'\n",
       "\\item 'Volvo'\n",
       "\\end{enumerate*}\n"
      ],
      "text/markdown": [
       "1. 'Mazda'\n",
       "2. 'Mazda'\n",
       "3. 'Datsun'\n",
       "4. 'Hornet'\n",
       "5. 'Hornet'\n",
       "6. 'Valiant'\n",
       "7. 'Duster'\n",
       "8. 'Merc'\n",
       "9. 'Merc'\n",
       "10. 'Merc'\n",
       "11. 'Merc'\n",
       "12. 'Merc'\n",
       "13. 'Merc'\n",
       "14. 'Merc'\n",
       "15. 'Cadillac'\n",
       "16. 'Lincoln'\n",
       "17. 'Chrysler'\n",
       "18. 'Fiat'\n",
       "19. 'Honda'\n",
       "20. 'Toyota'\n",
       "21. 'Toyota'\n",
       "22. 'Dodge'\n",
       "23. 'AMC'\n",
       "24. 'Camaro'\n",
       "25. 'Pontiac'\n",
       "26. 'Fiat'\n",
       "27. 'Porsche'\n",
       "28. 'Lotus'\n",
       "29. 'Ford'\n",
       "30. 'Ferrari'\n",
       "31. 'Maserati'\n",
       "32. 'Volvo'\n",
       "\n",
       "\n"
      ],
      "text/plain": [
       " [1] \"Mazda\"    \"Mazda\"    \"Datsun\"   \"Hornet\"   \"Hornet\"   \"Valiant\" \n",
       " [7] \"Duster\"   \"Merc\"     \"Merc\"     \"Merc\"     \"Merc\"     \"Merc\"    \n",
       "[13] \"Merc\"     \"Merc\"     \"Cadillac\" \"Lincoln\"  \"Chrysler\" \"Fiat\"    \n",
       "[19] \"Honda\"    \"Toyota\"   \"Toyota\"   \"Dodge\"    \"AMC\"      \"Camaro\"  \n",
       "[25] \"Pontiac\"  \"Fiat\"     \"Porsche\"  \"Lotus\"    \"Ford\"     \"Ferrari\" \n",
       "[31] \"Maserati\" \"Volvo\"   "
      ]
     },
     "metadata": {},
     "output_type": "display_data"
    }
   ],
   "source": [
    "## 1) sapply 사용\n",
    "\n",
    "sapply(strsplit(rownames(mtcars),\" \"),`[`,1)"
   ]
  },
  {
   "cell_type": "code",
   "execution_count": 13,
   "metadata": {},
   "outputs": [
    {
     "data": {
      "text/html": [
       "<table>\n",
       "<thead><tr><th></th><th scope=col>mpg</th><th scope=col>cyl</th><th scope=col>disp</th><th scope=col>hp</th><th scope=col>drat</th><th scope=col>wt</th><th scope=col>qsec</th><th scope=col>vs</th><th scope=col>am</th><th scope=col>gear</th><th scope=col>carb</th><th scope=col>brand</th></tr></thead>\n",
       "<tbody>\n",
       "\t<tr><th scope=row>Mazda RX4</th><td>21.0   </td><td>6      </td><td>160    </td><td>110    </td><td>3.90   </td><td>2.620  </td><td>16.46  </td><td>0      </td><td>1      </td><td>4      </td><td>4      </td><td>Mazda  </td></tr>\n",
       "\t<tr><th scope=row>Mazda RX4 Wag</th><td>21.0   </td><td>6      </td><td>160    </td><td>110    </td><td>3.90   </td><td>2.875  </td><td>17.02  </td><td>0      </td><td>1      </td><td>4      </td><td>4      </td><td>Mazda  </td></tr>\n",
       "\t<tr><th scope=row>Datsun 710</th><td>22.8   </td><td>4      </td><td>108    </td><td> 93    </td><td>3.85   </td><td>2.320  </td><td>18.61  </td><td>1      </td><td>1      </td><td>4      </td><td>1      </td><td>Datsun </td></tr>\n",
       "\t<tr><th scope=row>Hornet 4 Drive</th><td>21.4   </td><td>6      </td><td>258    </td><td>110    </td><td>3.08   </td><td>3.215  </td><td>19.44  </td><td>1      </td><td>0      </td><td>3      </td><td>1      </td><td>Hornet </td></tr>\n",
       "\t<tr><th scope=row>Hornet Sportabout</th><td>18.7   </td><td>8      </td><td>360    </td><td>175    </td><td>3.15   </td><td>3.440  </td><td>17.02  </td><td>0      </td><td>0      </td><td>3      </td><td>2      </td><td>Hornet </td></tr>\n",
       "\t<tr><th scope=row>Valiant</th><td>18.1   </td><td>6      </td><td>225    </td><td>105    </td><td>2.76   </td><td>3.460  </td><td>20.22  </td><td>1      </td><td>0      </td><td>3      </td><td>1      </td><td>Valiant</td></tr>\n",
       "</tbody>\n",
       "</table>\n"
      ],
      "text/latex": [
       "\\begin{tabular}{r|llllllllllll}\n",
       "  & mpg & cyl & disp & hp & drat & wt & qsec & vs & am & gear & carb & brand\\\\\n",
       "\\hline\n",
       "\tMazda RX4 & 21.0    & 6       & 160     & 110     & 3.90    & 2.620   & 16.46   & 0       & 1       & 4       & 4       & Mazda  \\\\\n",
       "\tMazda RX4 Wag & 21.0    & 6       & 160     & 110     & 3.90    & 2.875   & 17.02   & 0       & 1       & 4       & 4       & Mazda  \\\\\n",
       "\tDatsun 710 & 22.8    & 4       & 108     &  93     & 3.85    & 2.320   & 18.61   & 1       & 1       & 4       & 1       & Datsun \\\\\n",
       "\tHornet 4 Drive & 21.4    & 6       & 258     & 110     & 3.08    & 3.215   & 19.44   & 1       & 0       & 3       & 1       & Hornet \\\\\n",
       "\tHornet Sportabout & 18.7    & 8       & 360     & 175     & 3.15    & 3.440   & 17.02   & 0       & 0       & 3       & 2       & Hornet \\\\\n",
       "\tValiant & 18.1    & 6       & 225     & 105     & 2.76    & 3.460   & 20.22   & 1       & 0       & 3       & 1       & Valiant\\\\\n",
       "\\end{tabular}\n"
      ],
      "text/markdown": [
       "\n",
       "| <!--/--> | mpg | cyl | disp | hp | drat | wt | qsec | vs | am | gear | carb | brand |\n",
       "|---|---|---|---|---|---|---|---|---|---|---|---|---|\n",
       "| Mazda RX4 | 21.0    | 6       | 160     | 110     | 3.90    | 2.620   | 16.46   | 0       | 1       | 4       | 4       | Mazda   |\n",
       "| Mazda RX4 Wag | 21.0    | 6       | 160     | 110     | 3.90    | 2.875   | 17.02   | 0       | 1       | 4       | 4       | Mazda   |\n",
       "| Datsun 710 | 22.8    | 4       | 108     |  93     | 3.85    | 2.320   | 18.61   | 1       | 1       | 4       | 1       | Datsun  |\n",
       "| Hornet 4 Drive | 21.4    | 6       | 258     | 110     | 3.08    | 3.215   | 19.44   | 1       | 0       | 3       | 1       | Hornet  |\n",
       "| Hornet Sportabout | 18.7    | 8       | 360     | 175     | 3.15    | 3.440   | 17.02   | 0       | 0       | 3       | 2       | Hornet  |\n",
       "| Valiant | 18.1    | 6       | 225     | 105     | 2.76    | 3.460   | 20.22   | 1       | 0       | 3       | 1       | Valiant |\n",
       "\n"
      ],
      "text/plain": [
       "                  mpg  cyl disp hp  drat wt    qsec  vs am gear carb brand  \n",
       "Mazda RX4         21.0 6   160  110 3.90 2.620 16.46 0  1  4    4    Mazda  \n",
       "Mazda RX4 Wag     21.0 6   160  110 3.90 2.875 17.02 0  1  4    4    Mazda  \n",
       "Datsun 710        22.8 4   108   93 3.85 2.320 18.61 1  1  4    1    Datsun \n",
       "Hornet 4 Drive    21.4 6   258  110 3.08 3.215 19.44 1  0  3    1    Hornet \n",
       "Hornet Sportabout 18.7 8   360  175 3.15 3.440 17.02 0  0  3    2    Hornet \n",
       "Valiant           18.1 6   225  105 2.76 3.460 20.22 1  0  3    1    Valiant"
      ]
     },
     "metadata": {},
     "output_type": "display_data"
    }
   ],
   "source": [
    "## 2) for문 사용\n",
    "# - strsplit하면 list형태로 분리됨\n",
    "\n",
    "tmp <- strsplit(rownames(mtcars),\" \")\n",
    "tmp2 <- c()\n",
    "\n",
    "for(i in 1:length(tmp)){\n",
    "    tmp2 <- c(tmp2,tmp[[i]][1])\n",
    "}\n",
    "\n",
    "mtcars$brand <- as.factor(tmp2)\n",
    "head(mtcars)"
   ]
  },
  {
   "cell_type": "markdown",
   "metadata": {},
   "source": [
    "```{admonition} Question 7\n",
    "**추가된 brand 컬럼을 제외한 모든 컬럼을 통해 pca를 실시한다. 2개의 주성분과 brand컬럼으로 구성된 새로운 데이터 프레임을 출력하고, brand에 따른 2개 주성분을 시각화하여라 (brand를 구분 할수 있도록 색이다른 scatterplot, legend를 표시한다)**\n",
    "```"
   ]
  },
  {
   "cell_type": "code",
   "execution_count": 14,
   "metadata": {},
   "outputs": [
    {
     "data": {
      "text/plain": [
       "      mpg             cyl             disp             hp       \n",
       " Min.   :10.40   Min.   :4.000   Min.   : 71.1   Min.   : 52.0  \n",
       " 1st Qu.:15.43   1st Qu.:4.000   1st Qu.:120.8   1st Qu.: 96.5  \n",
       " Median :19.20   Median :6.000   Median :196.3   Median :123.0  \n",
       " Mean   :20.09   Mean   :6.188   Mean   :230.7   Mean   :146.7  \n",
       " 3rd Qu.:22.80   3rd Qu.:8.000   3rd Qu.:326.0   3rd Qu.:180.0  \n",
       " Max.   :33.90   Max.   :8.000   Max.   :472.0   Max.   :335.0  \n",
       "                                                                \n",
       "      drat             wt             qsec             vs        \n",
       " Min.   :2.760   Min.   :1.513   Min.   :14.50   Min.   :0.0000  \n",
       " 1st Qu.:3.080   1st Qu.:2.581   1st Qu.:16.89   1st Qu.:0.0000  \n",
       " Median :3.695   Median :3.325   Median :17.71   Median :0.0000  \n",
       " Mean   :3.597   Mean   :3.217   Mean   :17.85   Mean   :0.4375  \n",
       " 3rd Qu.:3.920   3rd Qu.:3.610   3rd Qu.:18.90   3rd Qu.:1.0000  \n",
       " Max.   :4.930   Max.   :5.424   Max.   :22.90   Max.   :1.0000  \n",
       "                                                                 \n",
       "       am              gear            carb           brand   \n",
       " Min.   :0.0000   Min.   :3.000   Min.   :1.000   Merc   : 7  \n",
       " 1st Qu.:0.0000   1st Qu.:3.000   1st Qu.:2.000   Fiat   : 2  \n",
       " Median :0.0000   Median :4.000   Median :2.000   Hornet : 2  \n",
       " Mean   :0.4062   Mean   :3.688   Mean   :2.812   Mazda  : 2  \n",
       " 3rd Qu.:1.0000   3rd Qu.:4.000   3rd Qu.:4.000   Toyota : 2  \n",
       " Max.   :1.0000   Max.   :5.000   Max.   :8.000   AMC    : 1  \n",
       "                                                  (Other):16  "
      ]
     },
     "metadata": {},
     "output_type": "display_data"
    }
   ],
   "source": [
    "summary(mtcars)"
   ]
  },
  {
   "cell_type": "markdown",
   "metadata": {},
   "source": [
    "변수간 단위가 다르므로, scale 필요"
   ]
  },
  {
   "cell_type": "code",
   "execution_count": 15,
   "metadata": {
    "scrolled": true
   },
   "outputs": [],
   "source": [
    "pca2 <- prcomp(mtcars[,-12],scale=T)\n",
    "mtcars <- cbind(mtcars, pca2$x[,1:2])"
   ]
  },
  {
   "cell_type": "code",
   "execution_count": 16,
   "metadata": {
    "scrolled": false
   },
   "outputs": [],
   "source": [
    "check_package(\"ggplot2\")"
   ]
  },
  {
   "cell_type": "code",
   "execution_count": 17,
   "metadata": {},
   "outputs": [
    {
     "data": {
      "image/png": "[encoded data removed]",
      "text/plain": [
       "plot without title"
      ]
     },
     "metadata": {},
     "output_type": "display_data"
    }
   ],
   "source": [
    "library(ggplot2)\n",
    "\n",
    "ggplot(mtcars,aes(x=PC1,y=PC2,color=brand))+geom_point()+\n",
    "  labs(color=\"brand\")\n",
    "\n",
    "#참고, 환경에 따라 PC2가 -PC2 값으로 나오기도 함."
   ]
  }
 ],
 "metadata": {
  "kernelspec": {
   "display_name": "R",
   "language": "R",
   "name": "ir"
  },
  "language_info": {
   "codemirror_mode": "r",
   "file_extension": ".r",
   "mimetype": "text/x-r-source",
   "name": "R",
   "pygments_lexer": "r",
   "version": "3.6.1"
  }
 },
 "nbformat": 4,
 "nbformat_minor": 4
}
