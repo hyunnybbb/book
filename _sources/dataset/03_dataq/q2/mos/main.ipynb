{
 "cells": [
  {
   "cell_type": "markdown",
   "metadata": {},
   "source": [
    "# 서울시 모기발생상황 지표 예측"
   ]
  },
  {
   "cell_type": "markdown",
   "metadata": {},
   "source": [
    "- 데이터 출처 :      \n",
    "https://data.kma.go.kr/stcs/grnd/grndTaList.do?pgmNo=70 (기상청)     \n",
    "https://data.seoul.go.kr/dataList/16/literacyView.do    (서울공공데이터포털)  "
   ]
  },
  {
   "cell_type": "markdown",
   "metadata": {},
   "source": [
    "```{attention} \n",
    "2016년~ 2019년까지의 일별 모기지수 데이터를 온도,강수량 데이터를 통해 예측해본다.     \n",
    "평가지표는 r2 score\n",
    "```"
   ]
  },
  {
   "cell_type": "markdown",
   "metadata": {
    "ExecuteTime": {
     "end_time": "2021-06-12T03:13:54.116905Z",
     "start_time": "2021-06-12T03:13:54.113802Z"
    }
   },
   "source": [
    "```{admonition} DataLoad\n",
    "**데이터 로드**\n",
    "```"
   ]
  },
  {
   "cell_type": "code",
   "execution_count": 24,
   "metadata": {
    "ExecuteTime": {
     "end_time": "2021-06-12T03:36:53.700637Z",
     "start_time": "2021-06-12T03:36:53.259890Z"
    }
   },
   "outputs": [],
   "source": [
    "import pandas as pd\n",
    "train_x =pd.read_csv('https://raw.githubusercontent.com/Datamanim/mosquito/main/train_x.csv',encoding='euc-kr')\n",
    "train_y =pd.read_csv('https://raw.githubusercontent.com/Datamanim/mosquito/main/train_y.csv',encoding='euc-kr')\n",
    "test_x =pd.read_csv('https://raw.githubusercontent.com/Datamanim/mosquito/main/test_x.csv',encoding='euc-kr')\n",
    "sub    =pd.read_csv('https://raw.githubusercontent.com/Datamanim/mosquito/main/sub.csv')"
   ]
  },
  {
   "cell_type": "markdown",
   "metadata": {
    "ExecuteTime": {
     "end_time": "2021-06-12T03:36:41.222295Z",
     "start_time": "2021-06-12T03:36:40.702Z"
    }
   },
   "source": [
    "```{admonition} DATA\n",
    "**데이터셋 확인**\n",
    "```"
   ]
  },
  {
   "cell_type": "code",
   "execution_count": 29,
   "metadata": {
    "ExecuteTime": {
     "end_time": "2021-06-12T03:37:26.954721Z",
     "start_time": "2021-06-12T03:37:26.945927Z"
    }
   },
   "outputs": [
    {
     "data": {
      "text/html": [
       "<div>\n",
       "<style scoped>\n",
       "    .dataframe tbody tr th:only-of-type {\n",
       "        vertical-align: middle;\n",
       "    }\n",
       "\n",
       "    .dataframe tbody tr th {\n",
       "        vertical-align: top;\n",
       "    }\n",
       "\n",
       "    .dataframe thead th {\n",
       "        text-align: right;\n",
       "    }\n",
       "</style>\n",
       "<table border=\"1\" class=\"dataframe\">\n",
       "  <thead>\n",
       "    <tr style=\"text-align: right;\">\n",
       "      <th></th>\n",
       "      <th>date</th>\n",
       "      <th>강수량(mm)</th>\n",
       "      <th>평균기온(℃)</th>\n",
       "      <th>최저기온(℃)</th>\n",
       "      <th>최고기온(℃)</th>\n",
       "    </tr>\n",
       "  </thead>\n",
       "  <tbody>\n",
       "    <tr>\n",
       "      <th>0</th>\n",
       "      <td>2019-12-31</td>\n",
       "      <td>0.0</td>\n",
       "      <td>-7.9</td>\n",
       "      <td>-10.9</td>\n",
       "      <td>-4.5</td>\n",
       "    </tr>\n",
       "    <tr>\n",
       "      <th>1</th>\n",
       "      <td>2019-12-30</td>\n",
       "      <td>0.4</td>\n",
       "      <td>2.7</td>\n",
       "      <td>-5.7</td>\n",
       "      <td>6.8</td>\n",
       "    </tr>\n",
       "    <tr>\n",
       "      <th>2</th>\n",
       "      <td>2019-12-29</td>\n",
       "      <td>1.4</td>\n",
       "      <td>3.8</td>\n",
       "      <td>1.1</td>\n",
       "      <td>6.2</td>\n",
       "    </tr>\n",
       "    <tr>\n",
       "      <th>3</th>\n",
       "      <td>2019-12-27</td>\n",
       "      <td>0.0</td>\n",
       "      <td>-1.7</td>\n",
       "      <td>-4.6</td>\n",
       "      <td>2.6</td>\n",
       "    </tr>\n",
       "    <tr>\n",
       "      <th>4</th>\n",
       "      <td>2019-12-25</td>\n",
       "      <td>0.0</td>\n",
       "      <td>2.0</td>\n",
       "      <td>-2.7</td>\n",
       "      <td>6.6</td>\n",
       "    </tr>\n",
       "  </tbody>\n",
       "</table>\n",
       "</div>"
      ],
      "text/plain": [
       "         date  강수량(mm)  평균기온(℃)  최저기온(℃)  최고기온(℃)\n",
       "0  2019-12-31      0.0     -7.9    -10.9     -4.5\n",
       "1  2019-12-30      0.4      2.7     -5.7      6.8\n",
       "2  2019-12-29      1.4      3.8      1.1      6.2\n",
       "3  2019-12-27      0.0     -1.7     -4.6      2.6\n",
       "4  2019-12-25      0.0      2.0     -2.7      6.6"
      ]
     },
     "execution_count": 29,
     "metadata": {},
     "output_type": "execute_result"
    }
   ],
   "source": [
    "train_x.head()"
   ]
  },
  {
   "cell_type": "code",
   "execution_count": 30,
   "metadata": {
    "ExecuteTime": {
     "end_time": "2021-06-12T03:37:27.239897Z",
     "start_time": "2021-06-12T03:37:27.233307Z"
    }
   },
   "outputs": [
    {
     "data": {
      "text/html": [
       "<div>\n",
       "<style scoped>\n",
       "    .dataframe tbody tr th:only-of-type {\n",
       "        vertical-align: middle;\n",
       "    }\n",
       "\n",
       "    .dataframe tbody tr th {\n",
       "        vertical-align: top;\n",
       "    }\n",
       "\n",
       "    .dataframe thead th {\n",
       "        text-align: right;\n",
       "    }\n",
       "</style>\n",
       "<table border=\"1\" class=\"dataframe\">\n",
       "  <thead>\n",
       "    <tr style=\"text-align: right;\">\n",
       "      <th></th>\n",
       "      <th>date</th>\n",
       "      <th>mosquito_ratio</th>\n",
       "    </tr>\n",
       "  </thead>\n",
       "  <tbody>\n",
       "    <tr>\n",
       "      <th>0</th>\n",
       "      <td>2019-12-31</td>\n",
       "      <td>5.5</td>\n",
       "    </tr>\n",
       "    <tr>\n",
       "      <th>1</th>\n",
       "      <td>2019-12-30</td>\n",
       "      <td>5.5</td>\n",
       "    </tr>\n",
       "    <tr>\n",
       "      <th>2</th>\n",
       "      <td>2019-12-29</td>\n",
       "      <td>5.5</td>\n",
       "    </tr>\n",
       "    <tr>\n",
       "      <th>3</th>\n",
       "      <td>2019-12-27</td>\n",
       "      <td>5.5</td>\n",
       "    </tr>\n",
       "    <tr>\n",
       "      <th>4</th>\n",
       "      <td>2019-12-25</td>\n",
       "      <td>5.5</td>\n",
       "    </tr>\n",
       "  </tbody>\n",
       "</table>\n",
       "</div>"
      ],
      "text/plain": [
       "         date  mosquito_ratio\n",
       "0  2019-12-31             5.5\n",
       "1  2019-12-30             5.5\n",
       "2  2019-12-29             5.5\n",
       "3  2019-12-27             5.5\n",
       "4  2019-12-25             5.5"
      ]
     },
     "execution_count": 30,
     "metadata": {},
     "output_type": "execute_result"
    }
   ],
   "source": [
    "train_y.head()"
   ]
  },
  {
   "cell_type": "markdown",
   "metadata": {
    "ExecuteTime": {
     "end_time": "2021-06-12T03:33:46.553421Z",
     "start_time": "2021-06-12T03:33:46.550581Z"
    }
   },
   "source": [
    "```{admonition} baseLine\n",
    "**베이스라인 코드입니다.**\n",
    "```"
   ]
  },
  {
   "cell_type": "code",
   "execution_count": 35,
   "metadata": {
    "ExecuteTime": {
     "end_time": "2021-06-12T03:38:12.832092Z",
     "start_time": "2021-06-12T03:38:12.478624Z"
    },
    "tags": [
     "hide-input"
    ]
   },
   "outputs": [],
   "source": [
    "from sklearn.ensemble import RandomForestRegressor\n",
    "from xgboost import XGBRFRegressor\n",
    "from sklearn.metrics import r2_score\n",
    "from sklearn.model_selection import train_test_split\n",
    "\n",
    "def preprocessing(df):\n",
    "    df['date'] = pd.to_datetime(df['date'])\n",
    "    df['year']= df['date'].dt.year\n",
    "    df['month']= df['date'].dt.month\n",
    "    df=df.drop(['date'],axis=1)\n",
    "    return df\n",
    "\n",
    "x = preprocessing(train_x)\n",
    "y = train_y.drop(['date'],axis=1)\n",
    "\n",
    "rf = RandomForestRegressor(random_state =12)\n",
    "xg =XGBRFRegressor(random_state =12)\n",
    "xtr ,xt, ytr,yt = train_test_split(x,y,test_size=0.3,random_state=24)\n",
    "\n",
    "rf.fit(xtr,ytr.values.ravel())\n",
    "xg.fit(xtr,ytr)\n",
    "pred= rf.predict(xt)\n",
    "predxg= xg.predict(xt)\n",
    "\n",
    "Ans = 'randomforest r2 : '+str(r2_score(pred,yt))+' \\nxgboost r2 : '+str(r2_score(predxg,yt))\n",
    "\n",
    "\n",
    "subDF = preprocessing(test_x)\n",
    "\n",
    "pred = (rf.predict(subDF) + xg.predict(subDF))/2\n",
    "sub['mosquito_ratio'] = pred\n",
    "sub.to_csv('submission.csv',index=False)"
   ]
  },
  {
   "cell_type": "code",
   "execution_count": 36,
   "metadata": {
    "ExecuteTime": {
     "end_time": "2021-06-12T03:38:12.836916Z",
     "start_time": "2021-06-12T03:38:12.834229Z"
    }
   },
   "outputs": [
    {
     "name": "stdout",
     "output_type": "stream",
     "text": [
      "randomforest r2 : 0.8124358796337134 \n",
      "xgboost r2 : 0.8237392692167604\n"
     ]
    }
   ],
   "source": [
    "print(Ans)"
   ]
  },
  {
   "cell_type": "markdown",
   "metadata": {},
   "source": [
    "```{tip} \n",
    "**제출코드 결과확인**\n",
    "```"
   ]
  },
  {
   "cell_type": "code",
   "execution_count": 17,
   "metadata": {
    "tags": [
     "hide-input"
    ]
   },
   "outputs": [],
   "source": [
    "def FinalMseScore():\n",
    "    import pandas as pd\n",
    "    y_true = pd.read_csv(\"https://raw.githubusercontent.com/Datamanim/mosquito/main/result.csv\")\n",
    "    sub = pd.read_csv('./submission.csv')\n",
    "    pred = sub.iloc[:,-1].values\n",
    "    from sklearn.metrics import r2_score\n",
    "    mse = r2_score(pred,y_true['mosquito_ratio'])    \n",
    "    print('submission mse score : ',mse)\n",
    "    return mse"
   ]
  },
  {
   "cell_type": "code",
   "execution_count": 18,
   "metadata": {
    "ExecuteTime": {
     "end_time": "2021-06-12T03:35:09.752540Z",
     "start_time": "2021-06-12T03:35:09.638655Z"
    }
   },
   "outputs": [
    {
     "name": "stdout",
     "output_type": "stream",
     "text": [
      "submission mse score :  0.8651963948863564\n"
     ]
    }
   ],
   "source": [
    "final_mse = FinalMseScore()"
   ]
  }
 ],
 "metadata": {
  "celltoolbar": "Edit Metadata",
  "kernelspec": {
   "display_name": "Python 3",
   "language": "python",
   "name": "python3"
  },
  "language_info": {
   "codemirror_mode": {
    "name": "ipython",
    "version": 3
   },
   "file_extension": ".py",
   "mimetype": "text/x-python",
   "name": "python",
   "nbconvert_exporter": "python",
   "pygments_lexer": "ipython3",
   "version": "3.8.2"
  }
 },
 "nbformat": 4,
 "nbformat_minor": 4
}
