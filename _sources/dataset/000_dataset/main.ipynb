{
 "cells": [
  {
   "cell_type": "markdown",
   "id": "6b02a39c",
   "metadata": {},
   "source": [
    "# 머신러닝 연습 Train, Test set"
   ]
  },
  {
   "cell_type": "markdown",
   "id": "62b3ea04",
   "metadata": {
    "ExecuteTime": {
     "end_time": "2021-09-12T11:01:27.928190Z",
     "start_time": "2021-09-12T11:01:27.925026Z"
    }
   },
   "source": [
    "```{attention} \n",
    "**캐글 공개 데이터셋을 간단한 전처리 후 Train, test셋으로 구분하여 깃헙레포에 저장했습니다.**    \n",
    "**데이터 확인은 url을 통해서 로드할 수 있습니다**\n",
    "```"
   ]
  },
  {
   "cell_type": "code",
   "execution_count": null,
   "id": "3fd60a88",
   "metadata": {},
   "outputs": [],
   "source": []
  }
 ],
 "metadata": {
  "celltoolbar": "Edit Metadata",
  "kernelspec": {
   "display_name": "Python 3",
   "language": "python",
   "name": "python3"
  },
  "language_info": {
   "codemirror_mode": {
    "name": "ipython",
    "version": 3
   },
   "file_extension": ".py",
   "mimetype": "text/x-python",
   "name": "python",
   "nbconvert_exporter": "python",
   "pygments_lexer": "ipython3",
   "version": "3.8.2"
  }
 },
 "nbformat": 4,
 "nbformat_minor": 5
}
