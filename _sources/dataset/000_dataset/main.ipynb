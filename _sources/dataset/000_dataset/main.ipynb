{
 "cells": [
  {
   "cell_type": "markdown",
   "id": "b460de44",
   "metadata": {},
   "source": [
    "# 머신러닝 연습 Train, Test set"
   ]
  },
  {
   "cell_type": "markdown",
   "id": "aff3a35e",
   "metadata": {
    "ExecuteTime": {
     "end_time": "2021-09-12T11:01:27.928190Z",
     "start_time": "2021-09-12T11:01:27.925026Z"
    }
   },
   "source": [
    "```{attention} \n",
    "**캐글 공개 데이터셋을 간단한 전처리 후 Train, test셋으로 구분하여 깃헙레포에 저장했습니다.**    \n",
    "**데이터 확인은 url을 통해서 로드할 수 있습니다**\n",
    "```"
   ]
  },
  {
   "cell_type": "markdown",
   "id": "699f1909",
   "metadata": {},
   "source": [
    "## Classification"
   ]
  },
  {
   "cell_type": "markdown",
   "id": "d99bebfd",
   "metadata": {},
   "source": [
    "### 01  회사 서비스 이탈 예측"
   ]
  },
  {
   "cell_type": "markdown",
   "id": "18c77e32",
   "metadata": {},
   "source": [
    "```{admonition} 데이터정보\n",
    "**DataUrl [train,test,submisson]**     \n",
    "https://raw.githubusercontent.com/Datamanim/datarepo/main/churn/train.csv\n",
    "https://raw.githubusercontent.com/Datamanim/datarepo/main/churn/test.csv\n",
    "https://raw.githubusercontent.com/Datamanim/datarepo/main/churn/submission.csv  \n",
    "\n",
    "Target : Exited (0,1)     \n",
    "     \n",
    "출처 : https://www.kaggle.com/shubh0799/churn-modelling    \n",
    "```"
   ]
  },
  {
   "cell_type": "code",
   "execution_count": 4,
   "id": "b1a18b71",
   "metadata": {
    "ExecuteTime": {
     "end_time": "2021-09-12T11:12:26.559329Z",
     "start_time": "2021-09-12T11:12:26.283165Z"
    },
    "tags": [
     "hide-input"
    ]
   },
   "outputs": [
    {
     "data": {
      "text/html": [
       "<div>\n",
       "<style scoped>\n",
       "    .dataframe tbody tr th:only-of-type {\n",
       "        vertical-align: middle;\n",
       "    }\n",
       "\n",
       "    .dataframe tbody tr th {\n",
       "        vertical-align: top;\n",
       "    }\n",
       "\n",
       "    .dataframe thead th {\n",
       "        text-align: right;\n",
       "    }\n",
       "</style>\n",
       "<table border=\"1\" class=\"dataframe\">\n",
       "  <thead>\n",
       "    <tr style=\"text-align: right;\">\n",
       "      <th></th>\n",
       "      <th>RowNumber</th>\n",
       "      <th>CustomerId</th>\n",
       "      <th>Surname</th>\n",
       "      <th>CreditScore</th>\n",
       "      <th>Geography</th>\n",
       "      <th>Gender</th>\n",
       "      <th>Age</th>\n",
       "      <th>Tenure</th>\n",
       "      <th>Balance</th>\n",
       "      <th>NumOfProducts</th>\n",
       "      <th>HasCrCard</th>\n",
       "      <th>IsActiveMember</th>\n",
       "      <th>EstimatedSalary</th>\n",
       "      <th>Exited</th>\n",
       "    </tr>\n",
       "  </thead>\n",
       "  <tbody>\n",
       "    <tr>\n",
       "      <th>0</th>\n",
       "      <td>6842</td>\n",
       "      <td>15793491</td>\n",
       "      <td>Cherkasova</td>\n",
       "      <td>714</td>\n",
       "      <td>Germany</td>\n",
       "      <td>Male</td>\n",
       "      <td>26</td>\n",
       "      <td>3</td>\n",
       "      <td>119545.48</td>\n",
       "      <td>2</td>\n",
       "      <td>1</td>\n",
       "      <td>0</td>\n",
       "      <td>65482.94</td>\n",
       "      <td>0</td>\n",
       "    </tr>\n",
       "    <tr>\n",
       "      <th>1</th>\n",
       "      <td>8963</td>\n",
       "      <td>15607874</td>\n",
       "      <td>Keane</td>\n",
       "      <td>687</td>\n",
       "      <td>France</td>\n",
       "      <td>Male</td>\n",
       "      <td>38</td>\n",
       "      <td>0</td>\n",
       "      <td>144450.58</td>\n",
       "      <td>1</td>\n",
       "      <td>0</td>\n",
       "      <td>1</td>\n",
       "      <td>137276.83</td>\n",
       "      <td>0</td>\n",
       "    </tr>\n",
       "    <tr>\n",
       "      <th>2</th>\n",
       "      <td>7047</td>\n",
       "      <td>15737627</td>\n",
       "      <td>Rivero</td>\n",
       "      <td>589</td>\n",
       "      <td>Germany</td>\n",
       "      <td>Female</td>\n",
       "      <td>20</td>\n",
       "      <td>2</td>\n",
       "      <td>121093.29</td>\n",
       "      <td>2</td>\n",
       "      <td>1</td>\n",
       "      <td>0</td>\n",
       "      <td>3529.72</td>\n",
       "      <td>0</td>\n",
       "    </tr>\n",
       "    <tr>\n",
       "      <th>3</th>\n",
       "      <td>7503</td>\n",
       "      <td>15697844</td>\n",
       "      <td>Whitehouse</td>\n",
       "      <td>721</td>\n",
       "      <td>Spain</td>\n",
       "      <td>Female</td>\n",
       "      <td>32</td>\n",
       "      <td>10</td>\n",
       "      <td>0.00</td>\n",
       "      <td>1</td>\n",
       "      <td>1</td>\n",
       "      <td>0</td>\n",
       "      <td>136119.96</td>\n",
       "      <td>1</td>\n",
       "    </tr>\n",
       "    <tr>\n",
       "      <th>4</th>\n",
       "      <td>3439</td>\n",
       "      <td>15722404</td>\n",
       "      <td>Carpenter</td>\n",
       "      <td>445</td>\n",
       "      <td>France</td>\n",
       "      <td>Female</td>\n",
       "      <td>30</td>\n",
       "      <td>3</td>\n",
       "      <td>0.00</td>\n",
       "      <td>2</td>\n",
       "      <td>1</td>\n",
       "      <td>1</td>\n",
       "      <td>127939.19</td>\n",
       "      <td>0</td>\n",
       "    </tr>\n",
       "  </tbody>\n",
       "</table>\n",
       "</div>"
      ],
      "text/plain": [
       "   RowNumber  CustomerId     Surname  CreditScore Geography  Gender  Age  \\\n",
       "0       6842    15793491  Cherkasova          714   Germany    Male   26   \n",
       "1       8963    15607874       Keane          687    France    Male   38   \n",
       "2       7047    15737627      Rivero          589   Germany  Female   20   \n",
       "3       7503    15697844  Whitehouse          721     Spain  Female   32   \n",
       "4       3439    15722404   Carpenter          445    France  Female   30   \n",
       "\n",
       "   Tenure    Balance  NumOfProducts  HasCrCard  IsActiveMember  \\\n",
       "0       3  119545.48              2          1               0   \n",
       "1       0  144450.58              1          0               1   \n",
       "2       2  121093.29              2          1               0   \n",
       "3      10       0.00              1          1               0   \n",
       "4       3       0.00              2          1               1   \n",
       "\n",
       "   EstimatedSalary  Exited  \n",
       "0         65482.94       0  \n",
       "1        137276.83       0  \n",
       "2          3529.72       0  \n",
       "3        136119.96       1  \n",
       "4        127939.19       0  "
      ]
     },
     "execution_count": 4,
     "metadata": {},
     "output_type": "execute_result"
    }
   ],
   "source": [
    "import pandas as pd\n",
    "df = pd.read_csv('https://raw.githubusercontent.com/Datamanim/datarepo/main/churn/train.csv')\n",
    "df.head()"
   ]
  },
  {
   "cell_type": "markdown",
   "id": "80430fe3",
   "metadata": {},
   "source": [
    "### 02"
   ]
  },
  {
   "cell_type": "markdown",
   "id": "f62ddccc",
   "metadata": {
    "ExecuteTime": {
     "end_time": "2021-09-12T11:02:21.244183Z",
     "start_time": "2021-09-12T11:02:21.241716Z"
    }
   },
   "source": [
    "## Regression"
   ]
  },
  {
   "cell_type": "code",
   "execution_count": null,
   "id": "0dee6bf9",
   "metadata": {},
   "outputs": [],
   "source": []
  }
 ],
 "metadata": {
  "celltoolbar": "Edit Metadata",
  "kernelspec": {
   "display_name": "Python 3",
   "language": "python",
   "name": "python3"
  },
  "language_info": {
   "codemirror_mode": {
    "name": "ipython",
    "version": 3
   },
   "file_extension": ".py",
   "mimetype": "text/x-python",
   "name": "python",
   "nbconvert_exporter": "python",
   "pygments_lexer": "ipython3",
   "version": "3.8.2"
  }
 },
 "nbformat": 4,
 "nbformat_minor": 5
}
